{
 "cells": [
  {
   "cell_type": "markdown",
   "metadata": {},
   "source": [
    "# Context"
   ]
  },
  {
   "cell_type": "markdown",
   "metadata": {},
   "source": [
    "Autoencoder to explore latent slow-wave-shape space"
   ]
  },
  {
   "cell_type": "markdown",
   "metadata": {},
   "source": [
    "# Imports"
   ]
  },
  {
   "cell_type": "code",
   "execution_count": 5,
   "metadata": {
    "scrolled": false
   },
   "outputs": [],
   "source": [
    "from skimage import io\n",
    "import skimage\n",
    "import numpy as np\n",
    "import matplotlib.pyplot as plt\n",
    "from scipy.ndimage import gaussian_filter, uniform_filter\n",
    "import pickle"
   ]
  },
  {
   "cell_type": "code",
   "execution_count": 6,
   "metadata": {
    "scrolled": false
   },
   "outputs": [],
   "source": [
    "import imageio\n",
    "from pathlib import Path"
   ]
  },
  {
   "cell_type": "code",
   "execution_count": 7,
   "metadata": {
    "scrolled": false
   },
   "outputs": [],
   "source": [
    "from PIL import Image\n",
    "import os"
   ]
  },
  {
   "cell_type": "code",
   "execution_count": 8,
   "metadata": {
    "scrolled": false
   },
   "outputs": [],
   "source": [
    "import matplotlib.pyplot as plt\n",
    "import numpy as np\n",
    "from matplotlib import gridspec\n",
    "import pickle"
   ]
  },
  {
   "cell_type": "code",
   "execution_count": 9,
   "metadata": {
    "scrolled": false
   },
   "outputs": [],
   "source": [
    "import matplotlib.animation\n",
    "from IPython.display import HTML\n",
    "matplotlib.rcParams['animation.embed_limit'] = 2**128"
   ]
  },
  {
   "cell_type": "markdown",
   "metadata": {},
   "source": [
    "### Import our custom utility methods"
   ]
  },
  {
   "cell_type": "code",
   "execution_count": 10,
   "metadata": {
    "scrolled": false
   },
   "outputs": [],
   "source": [
    "import sys\n",
    "%reload_ext autoreload\n",
    "%autoreload 2\n",
    "sys.path.append('..')\n",
    "\n",
    "from utils.visualization_tools import *\n",
    "import utils.visualization_tools\n",
    "from utils.data_transformations import *\n",
    "import utils.data_transformations\n",
    "from utils.diverse import *\n",
    "import utils.diverse"
   ]
  },
  {
   "cell_type": "markdown",
   "metadata": {},
   "source": [
    "## Load dataset"
   ]
  },
  {
   "cell_type": "code",
   "execution_count": 12,
   "metadata": {},
   "outputs": [
    {
     "name": "stdout",
     "output_type": "stream",
     "text": [
      "3030\n"
     ]
    }
   ],
   "source": [
    "with open(\"../../../main_experiment/sparse_data/dataset.pkl\", \"rb\") as f:\n",
    "    dataset = pickle.load(f)\n",
    "slow_wave_ids = list(dataset[\"sws\"].keys())\n",
    "print(len(slow_wave_ids))\n",
    "\n",
    "iso = np.array([dataset[\"sws\"][k][\"iso\"] for k in slow_wave_ids])\n",
    "starts = np.array([dataset[\"sws\"][k][\"start\"] for k in slow_wave_ids])\n",
    "stops = np.array([dataset[\"sws\"][k][\"stop\"] for k in slow_wave_ids])\n",
    "width = np.array([dataset[\"sws\"][k][\"width\"] for k in slow_wave_ids])\n",
    "height = np.array([dataset[\"sws\"][k][\"height\"] for k in slow_wave_ids])\n",
    "gcamp = np.array([dataset[\"sws\"][k][\"gcamp_interpolated\"] for k in slow_wave_ids])\n",
    "hemo = np.array([dataset[\"sws\"][k][\"hemo_interpolated\"] for k in slow_wave_ids])\n",
    "#gcamp = np.array([dataset[\"sws\"][k][\"gcamp_mean_centered\"] for k in slow_wave_ids])\n",
    "#hemo = np.array([dataset[\"sws\"][k][\"hemo_mean_centered\"] for k in slow_wave_ids])"
   ]
  },
  {
   "cell_type": "code",
   "execution_count": 13,
   "metadata": {},
   "outputs": [],
   "source": [
    "def stack_vectors(vectors):\n",
    "    n_vectors = len(vectors)\n",
    "    stacked_vectors = np.hstack(vectors)\n",
    "    stacked_vectors = stacked_vectors.reshape([stacked_vectors.shape[0], n_vectors, 128])\n",
    "    stacked_vectors = np.expand_dims(stacked_vectors, -1)\n",
    "    return n_vectors, stacked_vectors"
   ]
  },
  {
   "cell_type": "code",
   "execution_count": 14,
   "metadata": {},
   "outputs": [
    {
     "data": {
      "text/plain": [
       "(3030, 128)"
      ]
     },
     "execution_count": 14,
     "metadata": {},
     "output_type": "execute_result"
    }
   ],
   "source": [
    "gcamp.shape"
   ]
  },
  {
   "cell_type": "code",
   "execution_count": 15,
   "metadata": {},
   "outputs": [],
   "source": [
    "scale = np.vstack([height, width]).T\n",
    "n_vectors, stacked_vectors = stack_vectors([gcamp])\n",
    "#n_vectors, stacked_vectors = stack_vectors([interpolated, hemo_interpolated])"
   ]
  },
  {
   "cell_type": "code",
   "execution_count": 16,
   "metadata": {},
   "outputs": [],
   "source": [
    "from sklearn.model_selection import train_test_split\n",
    "random_state = 42\n",
    "test_size=.2\n",
    "vectors_train, vectors_test = train_test_split(stacked_vectors, test_size=test_size, random_state = random_state)\n",
    "#vectors_train, vectors_test = train_test_split([interpolated], test_size=test_size, random_state = random_state)\n",
    "\n",
    "scale_train, scale_test = train_test_split(scale, test_size=test_size, random_state = random_state)"
   ]
  },
  {
   "cell_type": "markdown",
   "metadata": {},
   "source": [
    "# Autoencoder"
   ]
  },
  {
   "cell_type": "code",
   "execution_count": 17,
   "metadata": {},
   "outputs": [],
   "source": [
    "from keras.layers import Dense, Input\n",
    "from keras.layers import Conv2D, Flatten, Lambda\n",
    "from keras.layers import Reshape, Conv2DTranspose\n",
    "from keras.models import Model\n",
    "from keras.datasets import mnist\n",
    "from keras.losses import mse, binary_crossentropy\n",
    "from keras.layers import Lambda, Input, Dense, Conv2D, Flatten, Dropout, MaxPooling2D, Reshape, Concatenate\n",
    "from keras.layers import Conv2DTranspose, UpSampling2D\n",
    "import keras\n",
    "\n",
    "from keras import backend as K\n",
    "import tensorflow as tf"
   ]
  },
  {
   "cell_type": "code",
   "execution_count": 18,
   "metadata": {},
   "outputs": [],
   "source": [
    "tf.compat.v1.disable_eager_execution()"
   ]
  },
  {
   "cell_type": "code",
   "execution_count": 19,
   "metadata": {},
   "outputs": [],
   "source": [
    "variational_autoencoder = False"
   ]
  },
  {
   "cell_type": "code",
   "execution_count": 20,
   "metadata": {},
   "outputs": [],
   "source": [
    "vectors_input = Input(shape=(n_vectors, 128, 1), name='encoder_input')\n",
    "x1 = Conv2D(8, (1, 20), activation='relu', padding='same')(vectors_input)\n",
    "x2 = MaxPooling2D((1, 2), padding='same')(x1)\n",
    "x3 = Conv2D(16, (1, 10), activation='relu', padding='same')(x2)\n",
    "x4 = MaxPooling2D((1, 2), padding='same')(x3)\n",
    "x5 = Conv2D(30, (1, 5), activation='relu', padding='same')(x4)\n",
    "x6 = Flatten()(x5)\n",
    "x6 = Dense(256, activation='relu')(x6)"
   ]
  },
  {
   "cell_type": "code",
   "execution_count": 21,
   "metadata": {},
   "outputs": [],
   "source": [
    "latent_layer = Dense(2, activation='relu',name='z_mean')(x6)\n",
    "encoder = Model(vectors_input, latent_layer, name='encoder')\n",
    "#encoder.summary()"
   ]
  },
  {
   "cell_type": "code",
   "execution_count": 22,
   "metadata": {},
   "outputs": [],
   "source": [
    "latent_inputs = keras.Input(shape=(2,))\n",
    "dx1 = Dense(256, activation='relu')(latent_inputs)\n",
    "dx2 = Dense(np.prod(list(x5.shape)[1:]), activation='relu')(dx1)\n",
    "dx3 = Reshape(list(x5.shape)[1:])(dx2)\n",
    "dx3b = Conv2DTranspose(filters=30,kernel_size=(1,5),activation='relu',strides=(1,2),padding='same')(dx3)\n",
    "dx4 = Conv2DTranspose(filters=16,kernel_size=(1,5),activation='relu',strides=(1,2),padding='same')(dx3b)\n",
    "dx5 = Conv2DTranspose(filters=8,kernel_size=(1,10),activation='relu',strides=(1,1),padding='same')(dx4)\n",
    "vectors_output = Conv2DTranspose(filters=1,kernel_size=(1,10),activation='relu',strides=(1,1),padding='same')(dx5)\n",
    "\n",
    "decoder = Model(latent_inputs, vectors_output, name='decoder')\n",
    "try:\n",
    "    assert list(vectors_output.shape)[1:] == list(vectors_input.shape)[1:]\n",
    "except:\n",
    "    print(\"Output shape and input shape must be equal\")\n",
    "    print(vectors_input.shape)\n",
    "    print(vectors_output.shape)"
   ]
  },
  {
   "cell_type": "code",
   "execution_count": 25,
   "metadata": {},
   "outputs": [
    {
     "data": {
      "text/plain": [
       "TensorShape([None, 1, 128, 1])"
      ]
     },
     "execution_count": 25,
     "metadata": {},
     "output_type": "execute_result"
    }
   ],
   "source": [
    "vectors_output.shape"
   ]
  },
  {
   "cell_type": "code",
   "execution_count": 24,
   "metadata": {},
   "outputs": [
    {
     "data": {
      "text/plain": [
       "[1, 32, 30]"
      ]
     },
     "execution_count": 24,
     "metadata": {},
     "output_type": "execute_result"
    }
   ],
   "source": [
    "list(x5.shape)[1:]"
   ]
  },
  {
   "cell_type": "code",
   "execution_count": 23,
   "metadata": {},
   "outputs": [],
   "source": [
    "#autoencoder = keras.Model(vectors_input, vectors_output)\n",
    "outputs = decoder(encoder([vectors_input]))\n",
    "autoencoder = Model(inputs=vectors_input, outputs=outputs, name='autoencoder')\n",
    "autoencoder.compile(optimizer='adam', loss='binary_crossentropy')"
   ]
  },
  {
   "cell_type": "code",
   "execution_count": 51,
   "metadata": {},
   "outputs": [
    {
     "name": "stdout",
     "output_type": "stream",
     "text": [
      "Model: \"autoencoder\"\n",
      "_________________________________________________________________\n",
      "Layer (type)                 Output Shape              Param #   \n",
      "=================================================================\n",
      "encoder_input (InputLayer)   [(None, 1, 128, 1)]       0         \n",
      "_________________________________________________________________\n",
      "encoder (Functional)         (None, 2)                 250424    \n",
      "_________________________________________________________________\n",
      "decoder (Functional)         (None, 1, 128, 1)         255803    \n",
      "=================================================================\n",
      "Total params: 506,227\n",
      "Trainable params: 506,227\n",
      "Non-trainable params: 0\n",
      "_________________________________________________________________\n"
     ]
    }
   ],
   "source": [
    "autoencoder.summary()"
   ]
  },
  {
   "cell_type": "code",
   "execution_count": 52,
   "metadata": {},
   "outputs": [
    {
     "data": {
      "text/plain": [
       "<tensorflow.python.keras.callbacks.History at 0x7f5e6445ff50>"
      ]
     },
     "execution_count": 52,
     "metadata": {},
     "output_type": "execute_result"
    }
   ],
   "source": [
    "autoencoder.fit(vectors_train, vectors_train, epochs=1,batch_size=64, verbose=0)"
   ]
  },
  {
   "cell_type": "code",
   "execution_count": 53,
   "metadata": {},
   "outputs": [
    {
     "name": "stdout",
     "output_type": "stream",
     "text": [
      "WARNING:tensorflow:From /home/ibmi/gerstenberger/anaconda3/envs/condaenv/lib/python3.7/site-packages/tensorflow/python/keras/engine/training_v1.py:2070: Model.state_updates (from tensorflow.python.keras.engine.training) is deprecated and will be removed in a future version.\n",
      "Instructions for updating:\n",
      "This property should not be used in TensorFlow 2.0, as updates are applied automatically.\n"
     ]
    },
    {
     "data": {
      "text/plain": [
       "[<matplotlib.lines.Line2D at 0x7f5e641a2410>]"
      ]
     },
     "execution_count": 53,
     "metadata": {},
     "output_type": "execute_result"
    },
    {
     "data": {
      "image/png": "[encoded data removed]",
      "text/plain": [
       "<Figure size 432x288 with 1 Axes>"
      ]
     },
     "metadata": {
      "needs_background": "light"
     },
     "output_type": "display_data"
    }
   ],
   "source": [
    "i = 200\n",
    "res = autoencoder.predict(vectors_train[i:i+1])\n",
    "\n",
    "plt.plot(vectors_train[i,0,:,0], c= \"lightblue\")\n",
    "#plt.plot(vectors_train[2,1,:,0], c = \"lightgray\")\n",
    "\n",
    "plt.plot(res[0,0,:,0], c = \"darkblue\")\n",
    "#plt.plot(res[0,1,:,0], c= \"darkblue\")"
   ]
  },
  {
   "cell_type": "code",
   "execution_count": 29,
   "metadata": {},
   "outputs": [
    {
     "data": {
      "text/plain": [
       "TensorShape([None, 1, 128, 1])"
      ]
     },
     "execution_count": 29,
     "metadata": {},
     "output_type": "execute_result"
    }
   ],
   "source": [
    "vectors_output.shape"
   ]
  },
  {
   "cell_type": "code",
   "execution_count": 48,
   "metadata": {},
   "outputs": [
    {
     "data": {
      "text/plain": [
       "TensorShape([None, 1, 128, 8])"
      ]
     },
     "execution_count": 48,
     "metadata": {},
     "output_type": "execute_result"
    }
   ],
   "source": [
    "dx5.shape"
   ]
  },
  {
   "cell_type": "code",
   "execution_count": 49,
   "metadata": {},
   "outputs": [
    {
     "data": {
      "text/plain": [
       "TensorShape([None, 1, 128, 16])"
      ]
     },
     "execution_count": 49,
     "metadata": {},
     "output_type": "execute_result"
    }
   ],
   "source": [
    "dx4.shape"
   ]
  },
  {
   "cell_type": "code",
   "execution_count": 50,
   "metadata": {},
   "outputs": [
    {
     "data": {
      "text/plain": [
       "[None, 1, 32, 32]"
      ]
     },
     "execution_count": 50,
     "metadata": {},
     "output_type": "execute_result"
    }
   ],
   "source": [
    "list(x5.shape)"
   ]
  },
  {
   "cell_type": "code",
   "execution_count": 51,
   "metadata": {},
   "outputs": [],
   "source": [
    "#x1.shape"
   ]
  },
  {
   "cell_type": "code",
   "execution_count": 52,
   "metadata": {},
   "outputs": [
    {
     "data": {
      "text/plain": [
       "TensorShape([None, 1, 128, 1])"
      ]
     },
     "execution_count": 52,
     "metadata": {},
     "output_type": "execute_result"
    }
   ],
   "source": [
    "vectors_input.shape"
   ]
  },
  {
   "cell_type": "code",
   "execution_count": 53,
   "metadata": {},
   "outputs": [
    {
     "ename": "NameError",
     "evalue": "name 'dx6' is not defined",
     "output_type": "error",
     "traceback": [
      "\u001b[0;31m---------------------------------------------------------------------------\u001b[0m",
      "\u001b[0;31mNameError\u001b[0m                                 Traceback (most recent call last)",
      "\u001b[0;32m<ipython-input-53-383a5f322da8>\u001b[0m in \u001b[0;36m<module>\u001b[0;34m\u001b[0m\n\u001b[0;32m----> 1\u001b[0;31m \u001b[0mdx6\u001b[0m\u001b[0;34m.\u001b[0m\u001b[0mshape\u001b[0m\u001b[0;34m\u001b[0m\u001b[0;34m\u001b[0m\u001b[0m\n\u001b[0m",
      "\u001b[0;31mNameError\u001b[0m: name 'dx6' is not defined"
     ]
    }
   ],
   "source": [
    "dx6.shape"
   ]
  },
  {
   "cell_type": "code",
   "execution_count": null,
   "metadata": {},
   "outputs": [],
   "source": [
    "out.shape"
   ]
  },
  {
   "cell_type": "code",
   "execution_count": null,
   "metadata": {},
   "outputs": [],
   "source": [
    "out.shape"
   ]
  },
  {
   "cell_type": "code",
   "execution_count": null,
   "metadata": {},
   "outputs": [],
   "source": [
    "for i in range(3):\n",
    "    x = Conv2DTranspose(filters=filters,kernel_size=kernel_size,activation='relu',strides=2,padding='same')(x)\n",
    "    filters //= 2"
   ]
  },
  {
   "cell_type": "code",
   "execution_count": null,
   "metadata": {},
   "outputs": [],
   "source": []
  },
  {
   "cell_type": "code",
   "execution_count": null,
   "metadata": {},
   "outputs": [],
   "source": []
  }
 ],
 "metadata": {
  "kernelspec": {
   "display_name": "Python 3",
   "language": "python",
   "name": "python3"
  },
  "language_info": {
   "codemirror_mode": {
    "name": "ipython",
    "version": 3
   },
   "file_extension": ".py",
   "mimetype": "text/x-python",
   "name": "python",
   "nbconvert_exporter": "python",
   "pygments_lexer": "ipython3",
   "version": "3.7.6"
  }
 },
 "nbformat": 4,
 "nbformat_minor": 2
}
