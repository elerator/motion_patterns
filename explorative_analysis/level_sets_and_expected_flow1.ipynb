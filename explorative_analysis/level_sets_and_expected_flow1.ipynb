{
 "cells": [
  {
   "cell_type": "markdown",
   "metadata": {},
   "source": [
    "# Context"
   ]
  },
  {
   "cell_type": "markdown",
   "metadata": {},
   "source": [
    "This is what is investigated here"
   ]
  },
  {
   "cell_type": "markdown",
   "metadata": {},
   "source": [
    "# Imports"
   ]
  },
  {
   "cell_type": "code",
   "execution_count": null,
   "metadata": {
    "scrolled": true
   },
   "outputs": [],
   "source": [
    "from skimage import io\n",
    "import skimage\n",
    "import numpy as np\n",
    "import matplotlib.pyplot as plt\n",
    "from scipy.ndimage import gaussian_filter, uniform_filter\n",
    "import pickle"
   ]
  },
  {
   "cell_type": "code",
   "execution_count": null,
   "metadata": {
    "scrolled": true
   },
   "outputs": [],
   "source": [
    "import imageio\n",
    "from pathlib import Path\n",
    "from matplotlib.pyplot import show\n",
    "from argparse import ArgumentParser\n",
    "\n",
    "from pyoptflow.plots import compareGraphs"
   ]
  },
  {
   "cell_type": "code",
   "execution_count": null,
   "metadata": {
    "scrolled": true
   },
   "outputs": [],
   "source": [
    "from PIL import Image\n",
    "import os\n",
    "from scipy.signal import argrelextrema\n",
    "from skimage import exposure"
   ]
  },
  {
   "cell_type": "code",
   "execution_count": null,
   "metadata": {
    "scrolled": true
   },
   "outputs": [],
   "source": [
    "import matplotlib\n",
    "import matplotlib.animation\n",
    "from IPython.display import HTML\n",
    "matplotlib.rcParams['animation.embed_limit'] = 2**128"
   ]
  },
  {
   "cell_type": "markdown",
   "metadata": {},
   "source": [
    "### Import our custom utility methods"
   ]
  },
  {
   "cell_type": "code",
   "execution_count": null,
   "metadata": {
    "scrolled": true
   },
   "outputs": [],
   "source": [
    "import sys\n",
    "%reload_ext autoreload\n",
    "%autoreload 2\n",
    "sys.path.append('..')\n",
    "\n",
    "from utils.visualization_tools import *\n",
    "import utils.visualization_tools\n",
    "from utils.data_transformations import *\n",
    "import utils.data_transformations\n",
    "from utils.diverse import *\n",
    "import utils.diverse\n",
    "\n",
    "import utils.levelset_flow\n",
    "from utils.levelset_flow import *"
   ]
  },
  {
   "cell_type": "markdown",
   "metadata": {},
   "source": [
    "The following modules are available"
   ]
  },
  {
   "cell_type": "code",
   "execution_count": null,
   "metadata": {
    "scrolled": true
   },
   "outputs": [],
   "source": [
    "print_module_methods(utils.diverse)"
   ]
  },
  {
   "cell_type": "code",
   "execution_count": null,
   "metadata": {
    "scrolled": true
   },
   "outputs": [],
   "source": [
    "print_module_methods(utils.visualization_tools)"
   ]
  },
  {
   "cell_type": "code",
   "execution_count": null,
   "metadata": {
    "scrolled": true
   },
   "outputs": [],
   "source": [
    "print_module_methods(utils.data_transformations)"
   ]
  },
  {
   "cell_type": "code",
   "execution_count": null,
   "metadata": {},
   "outputs": [],
   "source": [
    "def motion_statistic(y_comp, x_comp, mask):\n",
    "    out = []\n",
    "\n",
    "    dirs = np.rad2deg(np.arctan2(y_comp,x_comp))\n",
    "    mags = np.sqrt(x_comp**2, y_comp**2)\n",
    "\n",
    "    for mag, dir in zip(mags,dirs):\n",
    "        vals = []\n",
    "        for low in range(-180,180,10):\n",
    "            high = low + 10\n",
    "            mask = np.logical_and(~mask,np.logical_and(dir > low, dir <= high))\n",
    "            vals.append(np.sum(mag[mask]))\n",
    "        out.append(vals)\n",
    "        \n",
    "    out = np.array(out).T        \n",
    "    return out"
   ]
  },
  {
   "cell_type": "code",
   "execution_count": null,
   "metadata": {
    "scrolled": true
   },
   "outputs": [],
   "source": [
    "from pathlib import Path\n",
    "source_folder = os.path.join(Path(os.getcwd()).parent, \"source_data\")\n",
    "\n",
    "files = []\n",
    "files.append(os.path.join(source_folder,\"runstart16_X1.tif\"))\n",
    "files.append(os.path.join(source_folder,\"runstart16_X2.tif\"))\n",
    "\n",
    "filepath = files[0]"
   ]
  },
  {
   "cell_type": "code",
   "execution_count": null,
   "metadata": {},
   "outputs": [],
   "source": [
    "mask = np.array(Image.open(os.path.join(source_folder,\"mask_runstart16_X_left.png\")))==0\n",
    "mask = mask [:,:,0]\n",
    "mask = ~mask"
   ]
  },
  {
   "cell_type": "code",
   "execution_count": null,
   "metadata": {
    "scrolled": true
   },
   "outputs": [],
   "source": [
    "frames = np.array(skimage.io.imread(os.path.join(filepath)), dtype=np.double)[:1000]\n",
    "mean = np.mean(frames,axis=0)#pixelwise mean\n",
    "difference = framewise_difference(frames, mean, bigdata=True)\n",
    "mean = None"
   ]
  },
  {
   "cell_type": "code",
   "execution_count": null,
   "metadata": {
    "scrolled": true
   },
   "outputs": [],
   "source": [
    "frames = difference.copy()\n",
    "frames = remove_frequency_from_pixel_vectors(frames,15,20)"
   ]
  },
  {
   "cell_type": "code",
   "execution_count": null,
   "metadata": {
    "scrolled": true
   },
   "outputs": [],
   "source": [
    "frames = gaussian_filter(frames,2)"
   ]
  },
  {
   "cell_type": "code",
   "execution_count": null,
   "metadata": {
    "scrolled": true
   },
   "outputs": [],
   "source": [
    "expected = np.load(\"10_bins_expected_images_polynomial.npy\")"
   ]
  },
  {
   "cell_type": "markdown",
   "metadata": {},
   "source": [
    "# Remove the expected image from each frame"
   ]
  },
  {
   "cell_type": "code",
   "execution_count": null,
   "metadata": {},
   "outputs": [],
   "source": [
    "#frames -= np.min(frames)"
   ]
  },
  {
   "cell_type": "code",
   "execution_count": null,
   "metadata": {},
   "outputs": [],
   "source": [
    "frames = substract_expected(frames, expected, True)"
   ]
  },
  {
   "cell_type": "code",
   "execution_count": null,
   "metadata": {},
   "outputs": [],
   "source": [
    "frames = normalize(frames)"
   ]
  },
  {
   "cell_type": "code",
   "execution_count": null,
   "metadata": {},
   "outputs": [],
   "source": [
    "unmasked = frames.copy()"
   ]
  },
  {
   "cell_type": "code",
   "execution_count": null,
   "metadata": {},
   "outputs": [],
   "source": [
    "frames = apply_mask(frames, mask)"
   ]
  },
  {
   "cell_type": "markdown",
   "metadata": {},
   "source": [
    "# Check out unmasked data"
   ]
  },
  {
   "cell_type": "code",
   "execution_count": null,
   "metadata": {},
   "outputs": [],
   "source": [
    "%%capture\n",
    "ani = show_video((gaussian_filter(unmasked[560:560+200],1)), n_frames=100)"
   ]
  },
  {
   "cell_type": "code",
   "execution_count": null,
   "metadata": {},
   "outputs": [],
   "source": [
    "HTML(ani)"
   ]
  },
  {
   "cell_type": "markdown",
   "metadata": {},
   "source": [
    "# Correct vector fields"
   ]
  },
  {
   "cell_type": "code",
   "execution_count": null,
   "metadata": {},
   "outputs": [],
   "source": [
    "n_levels = 50\n",
    "ls = levelsets(frames[560:765], .1, 1.0, n_levels)\n",
    "closed = framewise_closing(ls[:], n_iterations=12, smoothing=0, post_smoothing=0)#4\n",
    "ls1 = closed.reshape(len(closed),n_levels, closed[0].shape[0]//n_levels,closed[0].shape[1])\n",
    "reassembled = normalize(np.mean(ls1[:,:,:,:],axis=(1)))\n",
    "smooth_reassembled = gaussian_filter(reassembled,[0,10,10])\n",
    "y_comp_expected, x_comp_expected = expected_flow(smooth_reassembled, 202)"
   ]
  },
  {
   "cell_type": "code",
   "execution_count": null,
   "metadata": {},
   "outputs": [],
   "source": [
    "x_comp, y_comp = horn_schunck(gaussian_filter(reassembled,[0,10,10]), 202)"
   ]
  },
  {
   "cell_type": "code",
   "execution_count": null,
   "metadata": {},
   "outputs": [],
   "source": [
    "y_comp_corrected, x_comp_corrected = post_process_vector_fields(y_comp, y_comp_expected, x_comp, x_comp_expected, mask, logscale = True)"
   ]
  },
  {
   "cell_type": "code",
   "execution_count": null,
   "metadata": {},
   "outputs": [],
   "source": [
    "#%%capture\n",
    "#ani = show_video(normalize(unmasked[560:560+202]), n_frames=200)"
   ]
  },
  {
   "cell_type": "code",
   "execution_count": null,
   "metadata": {},
   "outputs": [],
   "source": [
    "def zero_crossings(vector):\n",
    "    \"\"\" Returns the positions of the zero crossings\n",
    "    Args:\n",
    "        vector: Vector with potentially positive and negative values\n",
    "    Returns:\n",
    "        zero_crossings: Position of the zero crossings\n",
    "    \"\"\"\n",
    "    return np.where(np.diff(np.sign(vector)))[0]"
   ]
  },
  {
   "cell_type": "code",
   "execution_count": null,
   "metadata": {},
   "outputs": [],
   "source": [
    "res = motion_statistic(np.array(y_comp_corrected), np.array(x_comp_corrected), mask)\n",
    "res = np.log(np.abs(res)+1)\n",
    "\n",
    "fig, ax = plt.subplots(1, figsize=(15,15))\n",
    "y_ticks = np.arange(5)*9\n",
    "y_ticks[-1] -=1\n",
    "ax.set_yticks(y_ticks)\n",
    "ax.set_yticklabels([\"left\",\"up\",\"right\",\"down\",\"left\"])\n",
    "\n",
    "ax.imshow(np.vstack(res))"
   ]
  },
  {
   "cell_type": "code",
   "execution_count": null,
   "metadata": {},
   "outputs": [],
   "source": [
    "#center of mass\n",
    "cm_left = np.array([center_of_mass(f) for f in unmasked[560:560+202,25:240,50:160]]).T\n",
    "cm_left_y = normalize(cm_left[0])\n",
    "cm_left_x = normalize(cm_left[1])\n",
    "\n",
    "upwards_trend = np.array(y_comp_corrected).copy()\n",
    "upwards_trend[upwards_trend<0] = np.nan\n",
    "downwards_trend = np.array(y_comp_corrected).copy()\n",
    "downwards_trend[upwards_trend>0] = np.nan\n",
    "downwards_trend *= -1\n",
    "upwards_trend *= -1\n",
    "upwards_trend = np.nanmean(upwards_trend, axis=(1,2))\n",
    "downwards_trend = np.nanmean(downwards_trend, axis=(1,2))\n",
    "\n",
    "\n",
    "leftwards_trend = np.array(x_comp_corrected).copy()\n",
    "leftwards_trend[leftwards_trend<0] = np.nan\n",
    "rightwards_trend = np.array(y_comp_corrected).copy()\n",
    "rightwards_trend[rightwards_trend>0] = np.nan\n",
    "leftwards_trend = np.nanmean(leftwards_trend, axis=(1,2))\n",
    "rightwards_trend = np.nanmean(rightwards_trend, axis=(1,2))\n",
    "\n",
    "dist = 4\n",
    "upwards_trend1 = np.mean(res[9-dist:9+dist,:],axis=0)\n",
    "downwards_trend1 = -np.mean(res[28-dist:27+dist,:],axis=0)"
   ]
  },
  {
   "cell_type": "code",
   "execution_count": null,
   "metadata": {
    "scrolled": false
   },
   "outputs": [],
   "source": [
    "fig, ax = plt.subplots(7, figsize=(12,10))\n",
    "fig.tight_layout()\n",
    "\n",
    "# Framewise mean\n",
    "ax[0].set_title(\"df/dt\")\n",
    "ax[0].plot(normalize(np.mean(reassembled[:202], axis=(1,2))), label=\"Corrected for blood vessels\")\n",
    "ax[0].plot(normalize(np.mean(frames[560:560+202], axis=(1,2))), label=\"Contrast to expected\")\n",
    "ax[0].plot(normalize(np.mean(difference[560:560+202], axis=(1,2))), label=\"Contrast to pixelwise mean\")\n",
    "ax[0].legend(loc=\"right\")\n",
    "\n",
    "ax[0].plot()\n",
    "\n",
    "ax[0].set_xlabel(\"Frame index\")\n",
    "ax[0].set_ylabel(\"Normal frame-mean\")\n",
    "\n",
    "# EMPTY AXIS\n",
    "ax[1].axis('off')\n",
    "\n",
    "# DIRECTION OF SPREDING MOTION (Up down)\n",
    "ax[2].set_title(\"Direction of spreading motion\")\n",
    "ax[2].axhline(0, c=\"gray\")\n",
    "\n",
    "ax[2].plot(downwards_trend, label=\"Sum of Y-component of upwards vectors\")\n",
    "ax[2].plot(upwards_trend, label=\"Sum of Y-component of downwards vectors\")\n",
    "#ax[2].plot(upwards_trend1, label=\"Upwards +- 30 degrees\")\n",
    "#ax[2].plot(downwards_trend1, label=\"Downwards +- 30 degrees\" )\n",
    "ax[2].legend(loc=\"lower right\")\n",
    "\n",
    "#ax[2].plot(upwards_trend/(.01+normalize(np.mean(frames[560:560+202], axis=(1,2)))))\n",
    "ax[2].set_xlabel(\"Frame index\")\n",
    "ax[2].set_ylabel(\"Motion [up/down]\")\n",
    "\n",
    "# DIRECTION OF SPREDING MOTION (Left right)\n",
    "ax[3].axhline(0, c=\"gray\")\n",
    "ax[3].set_xlabel(\"Frame index\")\n",
    "ax[3].set_ylabel(\"Motion [left/right]\", labelpad=11.5)\n",
    "ax[3].plot(leftwards_trend, label=\"Sum of X-component of leftwards vectors\")\n",
    "ax[3].plot(rightwards_trend, label=\"Sum of X-component of rightwards vectors\")\n",
    "ax[3].legend(loc=\"upper right\")\n",
    "\n",
    "\n",
    "# EMPTY AXIS\n",
    "ax[4].axis('off')\n",
    "\n",
    "\n",
    "ax[5].set_title(\"Center of gravity of pixels\")\n",
    "\n",
    "ax[5].plot(cm_left_y)\n",
    "ax[5].set_ylabel(\"Y-component\")\n",
    "ax[5].set_xlabel(\"Frame index\")\n",
    "\n",
    "ax[6].plot(cm_left_x)\n",
    "ax[6].set_ylabel(\"X-component\")\n",
    "ax[6].set_xlabel(\"Frame index\")\n",
    "plt.subplots_adjust(hspace=.0)"
   ]
  },
  {
   "cell_type": "code",
   "execution_count": null,
   "metadata": {},
   "outputs": [],
   "source": [
    "y_comp_corrected, x_comp_corrected = post_process_vector_fields(y_comp, y_comp_expected, x_comp, x_comp_expected, mask, logscale = True, pre_log_factor = 3000)"
   ]
  },
  {
   "cell_type": "code",
   "execution_count": null,
   "metadata": {},
   "outputs": [],
   "source": [
    "%%capture\n",
    "i = 0\n",
    "fig, ax = display_combined(x_comp_corrected[0],y_comp_corrected[0], reassembled[1], quivstep = 10)\n",
    "time_text = plt.figtext(0.5, 0.01, \"time \" + str(0), ha=\"center\", fontsize=18)\n",
    "\n",
    "def animate(i):\n",
    "    global time_text\n",
    "    print(\".\", end =\"\")    \n",
    "    display_combined(y_comp_corrected[i],x_comp_corrected[i],reassembled[i], fig=fig, ax=ax, scale=1, quivstep = 5, head_width=2.5)\n",
    "    time_text.set_text('time = %.1d' % i)\n",
    "\n",
    "ani = matplotlib.animation.FuncAnimation(fig, animate, frames=200)"
   ]
  },
  {
   "cell_type": "code",
   "execution_count": null,
   "metadata": {},
   "outputs": [],
   "source": [
    "HTML(ani.to_jshtml())"
   ]
  },
  {
   "cell_type": "code",
   "execution_count": null,
   "metadata": {},
   "outputs": [],
   "source": [
    "difference = gaussian_filter(difference, 2)"
   ]
  },
  {
   "cell_type": "code",
   "execution_count": null,
   "metadata": {},
   "outputs": [],
   "source": [
    "%%capture\n",
    "i = 0\n",
    "fig, ax = plt.subplots(4,1, figsize=(12,12), gridspec_kw={'height_ratios': [1,.3,.3,.3]})\n",
    "time_text = plt.figtext(0.5, 0.01, \"time \" + str(0), ha=\"center\", fontsize=18)\n",
    "ax[1].axis('off')\n",
    "ax[2].plot(upwards_trend)\n",
    "ax[2].plot(downwards_trend)\n",
    "ax[3].plot(leftwards_trend)\n",
    "ax[3].plot(rightwards_trend)\n",
    "\n",
    "\n",
    "plt.subplots_adjust(hspace=.0)\n",
    "\n",
    "\n",
    "line = ax[2].axvline(i, c=\"red\")\n",
    "line1 = ax[3].axvline(i, c=\"red\")\n",
    "\n",
    "\n",
    "def animate(i):\n",
    "    global time_text\n",
    "    print(\".\", end =\"\")\n",
    "    ax[0].imshow(difference[560+i])\n",
    "    line.set_data([i, i], [0, 1])\n",
    "    line1.set_data([i, i], [0, 1])\n",
    "\n",
    "    time_text.set_text('time = %.1d' % i)\n",
    "\n",
    "ani = matplotlib.animation.FuncAnimation(fig, animate, frames=200)"
   ]
  },
  {
   "cell_type": "code",
   "execution_count": null,
   "metadata": {},
   "outputs": [],
   "source": [
    "HTML(ani.to_jshtml())"
   ]
  },
  {
   "cell_type": "code",
   "execution_count": null,
   "metadata": {},
   "outputs": [],
   "source": [
    "def histograms_of_motion(x_comp, y_comp, bins = 36, weighted = True):\n",
    "    x_comp = x_comp.reshape(x_comp.shape[0],x_comp.shape[1]*x_comp.shape[2])\n",
    "    y_comp = y_comp.reshape(y_comp.shape[0],y_comp.shape[1]*y_comp.shape[2])\n",
    "    \n",
    "    histograms = []\n",
    "    \n",
    "    for x, y in zip(x_comp, y_comp):\n",
    "        x = x[~np.isnan(x)]\n",
    "        y = y[~np.isnan(y)]\n",
    "        \n",
    "        mask = ~np.logical_and(x==0,y==0)\n",
    "        x = x[mask]\n",
    "        y = y[mask]\n",
    "        assert len(x) == len(y)\n",
    "        mag = np.sqrt(x**2, y**2)\n",
    "        dir = np.rad2deg(np.arctan2(y,x))\n",
    "        if weighted:\n",
    "            hist = np.histogram(dir, weights = mag, bins=bins, range=(-180,180))[0]\n",
    "        else:\n",
    "            hist = np.histogram(dir, bins=bins, range=(0,360))[0]\n",
    "        #if np.sum(hist) !=0:\n",
    "        #    histograms.append(normalize(hist))\n",
    "        #else:\n",
    "        histograms.append(hist)\n",
    "    return np.array(histograms).T"
   ]
  },
  {
   "cell_type": "code",
   "execution_count": null,
   "metadata": {},
   "outputs": [],
   "source": [
    "hist = histograms_of_motion(np.array(x_comp), np.array(y_comp))"
   ]
  },
  {
   "cell_type": "code",
   "execution_count": null,
   "metadata": {},
   "outputs": [],
   "source": [
    "plt.imshow(mask)"
   ]
  },
  {
   "cell_type": "code",
   "execution_count": null,
   "metadata": {},
   "outputs": [],
   "source": [
    "y_comp_corrected, x_comp_corrected = post_process_vector_fields(y_comp, y_comp_expected, x_comp, x_comp_expected, mask, logscale = False)"
   ]
  },
  {
   "cell_type": "code",
   "execution_count": null,
   "metadata": {},
   "outputs": [],
   "source": [
    "res.shape"
   ]
  },
  {
   "cell_type": "code",
   "execution_count": null,
   "metadata": {},
   "outputs": [],
   "source": []
  },
  {
   "cell_type": "code",
   "execution_count": null,
   "metadata": {},
   "outputs": [],
   "source": [
    "%%capture\n",
    "fig, ax = display_combined(x_comp[0],y_comp[0], reassembled[1], quivstep = 10)\n",
    "time_text = plt.figtext(0.5, 0.01, \"time \" + str(0), ha=\"center\", fontsize=18)\n",
    "\n",
    "def animate(i):\n",
    "    global time_text\n",
    "    print(\".\", end =\"\")    \n",
    "    display_combined(y_comp[i],x_comp[i], reassembled[i], fig=fig, ax=ax, scale=500, quivstep = 5)\n",
    "    time_text.set_text('time = %.1d' % i)\n",
    "\n",
    "ani = matplotlib.animation.FuncAnimation(fig, animate, frames=200)"
   ]
  },
  {
   "cell_type": "code",
   "execution_count": null,
   "metadata": {},
   "outputs": [],
   "source": [
    "HTML(ani.to_jshtml())"
   ]
  },
  {
   "cell_type": "code",
   "execution_count": null,
   "metadata": {},
   "outputs": [],
   "source": [
    "from pynhhd import nHHD\n",
    "\n",
    "def helmholtz_decomposition(y_comp, x_comp):\n",
    "    vfield = np.array([y_comp,x_comp])\n",
    "    vfield = np.einsum(\"ijk->kij\",vfield)\n",
    "    vfield = np.einsum(\"ijk->kij\",vfield)\n",
    "    dims = (vfield.shape[0],vfield.shape[1])\n",
    "    nhhd = nHHD(grid=dims, spacings=(0.1,0.1))\n",
    "    nhhd.decompose(vfield)\n",
    "    return nhhd.r, nhhd.d, nhhd.h"
   ]
  },
  {
   "cell_type": "code",
   "execution_count": null,
   "metadata": {},
   "outputs": [],
   "source": [
    "y_comp[np.isnan(y_comp)] = 0"
   ]
  },
  {
   "cell_type": "code",
   "execution_count": null,
   "metadata": {},
   "outputs": [],
   "source": [
    "x_comp[np.isnan(x_comp)] = 0"
   ]
  },
  {
   "cell_type": "code",
   "execution_count": null,
   "metadata": {},
   "outputs": [],
   "source": [
    "r, d, h = helmholtz_decomposition(y_comp[10], x_comp[10])"
   ]
  },
  {
   "cell_type": "code",
   "execution_count": null,
   "metadata": {},
   "outputs": [],
   "source": [
    "display_combined(r[:,:,1],r[:,:,0],tensor_of_interest[10],quivstep=3,scale=100, head_width = 2)\n",
    "plt.show()"
   ]
  },
  {
   "cell_type": "code",
   "execution_count": null,
   "metadata": {},
   "outputs": [],
   "source": [
    "i_frame = 10\n",
    "display_combined(x_comp[i_frame],y_comp[i_frame],np.sqrt(y_comp[3]**2+x_comp[3]**2)*100, quivstep=3)"
   ]
  },
  {
   "cell_type": "code",
   "execution_count": null,
   "metadata": {},
   "outputs": [],
   "source": [
    "%%capture\n",
    "lengths = np.sqrt(x_comp**2+y_comp**2)\n",
    "ani = show_video(lengths*10, n_frames=90)"
   ]
  },
  {
   "cell_type": "code",
   "execution_count": null,
   "metadata": {},
   "outputs": [],
   "source": [
    "%%capture\n",
    "ani = show_video(normalize(max_filtered[550:]), normalize(difference[550:]), n_frames=50, vmin = .1, vmax=.3)"
   ]
  },
  {
   "cell_type": "code",
   "execution_count": null,
   "metadata": {},
   "outputs": [],
   "source": [
    "HTML(ani)"
   ]
  },
  {
   "cell_type": "code",
   "execution_count": null,
   "metadata": {},
   "outputs": [],
   "source": [
    "%%capture\n",
    "ani = show_video(normalize(gaussian_filter(interpolated,2)), n_frames=199, vmin = .1, vmax=.5)"
   ]
  },
  {
   "cell_type": "code",
   "execution_count": null,
   "metadata": {},
   "outputs": [],
   "source": [
    "HTML(ani)"
   ]
  },
  {
   "cell_type": "code",
   "execution_count": null,
   "metadata": {},
   "outputs": [],
   "source": [
    "x_comp, y_comp = horn_schunck(normalize(gaussian_filter(interpolated,2)), 150)"
   ]
  },
  {
   "cell_type": "code",
   "execution_count": null,
   "metadata": {},
   "outputs": [],
   "source": [
    "np.save(\"test_vector_field.npy\",np.array([x_comp[75],y_comp[75]]))"
   ]
  },
  {
   "cell_type": "code",
   "execution_count": null,
   "metadata": {},
   "outputs": [],
   "source": [
    "%%capture\n",
    "fig, ax = display_combined(x_comp[0],y_comp[0], interpolated[1])\n",
    "start = 70\n",
    "n_frames = 10\n",
    "\n",
    "def animate(i):\n",
    "    global start\n",
    "    i += start\n",
    "    print(\".\", end =\"\")    \n",
    "    display_combined(y_comp[i],x_comp[i], interpolated[i+1], fig=fig, ax=ax, scale=1000)\n",
    "\n",
    "ani = matplotlib.animation.FuncAnimation(fig, animate, frames=n_frames)"
   ]
  },
  {
   "cell_type": "code",
   "execution_count": null,
   "metadata": {},
   "outputs": [],
   "source": [
    "HTML(ani.to_jshtml())"
   ]
  },
  {
   "cell_type": "code",
   "execution_count": null,
   "metadata": {},
   "outputs": [],
   "source": [
    "#from scipy.ndimage.measurements import center_of_mass"
   ]
  },
  {
   "cell_type": "code",
   "execution_count": null,
   "metadata": {},
   "outputs": [],
   "source": [
    "left_hemisphere = difference[:,:,:160]\n",
    "right_hemisphere = difference[:,:,160:]\n",
    "cm_left = np.array([center_of_mass(f) for f in left_hemisphere])\n",
    "cm_right = np.array([center_of_mass(f) for f in right_hemisphere])\n",
    "\n",
    "fig, ax = plt.subplots(3)\n",
    "fig.suptitle(\"Center of mass (contrast to mean image)\")\n",
    "ax[0].plot(np.sum(difference, axis=(1,2)))\n",
    "\n",
    "ax[1].plot(cm_right[:,0])\n",
    "ax[1].plot(cm_left[:,0])\n",
    "\n",
    "ax[2].plot(cm_right[:,1])\n",
    "ax[2].plot(cm_left[:,1])"
   ]
  },
  {
   "cell_type": "code",
   "execution_count": null,
   "metadata": {},
   "outputs": [],
   "source": [
    "left_hemisphere = frames[:,:,:160]\n",
    "right_hemisphere = frames[:,:,160:]\n",
    "cm_left = np.array([center_of_mass(f) for f in left_hemisphere])\n",
    "cm_right = np.array([center_of_mass(f) for f in right_hemisphere])\n",
    "\n",
    "fig, ax = plt.subplots(3)\n",
    "fig.suptitle(\"Center of mass (contrast expected image)\")\n",
    "\n",
    "ax[0].plot(np.sum(difference, axis=(1,2)))\n",
    "\n",
    "ax[1].plot(cm_right[:,0]-np.mean(cm_right[:,0]))\n",
    "ax[1].plot(cm_left[:,0]-np.mean(cm_left[:,0]))\n",
    "\n",
    "ax[2].plot(cm_right[:,1])\n",
    "ax[2].plot(cm_left[:,1])"
   ]
  },
  {
   "cell_type": "code",
   "execution_count": null,
   "metadata": {},
   "outputs": [],
   "source": [
    "%%capture\n",
    "ani = show_video(normalize(max_filtered[600:]), normalize(difference[600:]), n_frames=200, vmin = .3, vmax=.7)"
   ]
  },
  {
   "cell_type": "code",
   "execution_count": null,
   "metadata": {
    "scrolled": true
   },
   "outputs": [],
   "source": [
    "# use median!"
   ]
  }
 ],
 "metadata": {
  "kernelspec": {
   "display_name": "Python 3",
   "language": "python",
   "name": "python3"
  },
  "language_info": {
   "codemirror_mode": {
    "name": "ipython",
    "version": 3
   },
   "file_extension": ".py",
   "mimetype": "text/x-python",
   "name": "python",
   "nbconvert_exporter": "python",
   "pygments_lexer": "ipython3",
   "version": "3.7.6"
  }
 },
 "nbformat": 4,
 "nbformat_minor": 2
}
