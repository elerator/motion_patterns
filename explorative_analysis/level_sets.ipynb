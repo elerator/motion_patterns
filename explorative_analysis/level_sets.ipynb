{
 "cells": [
  {
   "cell_type": "markdown",
   "metadata": {},
   "source": [
    "# Context"
   ]
  },
  {
   "cell_type": "markdown",
   "metadata": {},
   "source": [
    "This is what is investigated here"
   ]
  },
  {
   "cell_type": "markdown",
   "metadata": {},
   "source": [
    "# Imports"
   ]
  },
  {
   "cell_type": "code",
   "execution_count": null,
   "metadata": {
    "scrolled": true
   },
   "outputs": [],
   "source": [
    "from skimage import io\n",
    "import skimage\n",
    "import numpy as np\n",
    "import matplotlib.pyplot as plt\n",
    "from scipy.ndimage import gaussian_filter, uniform_filter\n",
    "import pickle"
   ]
  },
  {
   "cell_type": "code",
   "execution_count": null,
   "metadata": {
    "scrolled": true
   },
   "outputs": [],
   "source": [
    "import imageio\n",
    "from pathlib import Path\n",
    "from matplotlib.pyplot import show\n",
    "from argparse import ArgumentParser\n",
    "\n",
    "from pyoptflow.plots import compareGraphs"
   ]
  },
  {
   "cell_type": "code",
   "execution_count": null,
   "metadata": {
    "scrolled": true
   },
   "outputs": [],
   "source": [
    "from PIL import Image\n",
    "import os\n",
    "from scipy.signal import argrelextrema\n",
    "from skimage import exposure"
   ]
  },
  {
   "cell_type": "code",
   "execution_count": null,
   "metadata": {
    "scrolled": true
   },
   "outputs": [],
   "source": [
    "import matplotlib\n",
    "import matplotlib.animation\n",
    "from IPython.display import HTML\n",
    "matplotlib.rcParams['animation.embed_limit'] = 2**128"
   ]
  },
  {
   "cell_type": "markdown",
   "metadata": {},
   "source": [
    "### Import our custom utility methods"
   ]
  },
  {
   "cell_type": "code",
   "execution_count": null,
   "metadata": {},
   "outputs": [],
   "source": [
    "!ls ../utils/"
   ]
  },
  {
   "cell_type": "code",
   "execution_count": null,
   "metadata": {
    "scrolled": true
   },
   "outputs": [],
   "source": [
    "import sys\n",
    "%reload_ext autoreload\n",
    "%autoreload 2\n",
    "sys.path.append('..')\n",
    "\n",
    "from utils.visualization_tools import *\n",
    "import utils.visualization_tools\n",
    "from utils.data_transformations import *\n",
    "import utils.data_transformations\n",
    "from utils.diverse import *\n",
    "import utils.diverse\n",
    "\n",
    "import utils.levelset_flow\n",
    "from utils.levelset_flow import *"
   ]
  },
  {
   "cell_type": "markdown",
   "metadata": {},
   "source": [
    "The following modules are available"
   ]
  },
  {
   "cell_type": "code",
   "execution_count": null,
   "metadata": {
    "scrolled": true
   },
   "outputs": [],
   "source": [
    "print_module_methods(utils.diverse)"
   ]
  },
  {
   "cell_type": "code",
   "execution_count": null,
   "metadata": {
    "scrolled": true
   },
   "outputs": [],
   "source": [
    "print_module_methods(utils.visualization_tools)"
   ]
  },
  {
   "cell_type": "code",
   "execution_count": null,
   "metadata": {
    "scrolled": true
   },
   "outputs": [],
   "source": [
    "print_module_methods(utils.data_transformations)"
   ]
  },
  {
   "cell_type": "code",
   "execution_count": null,
   "metadata": {
    "scrolled": true
   },
   "outputs": [],
   "source": [
    "from pathlib import Path\n",
    "source_folder = os.path.join(Path(os.getcwd()).parent, \"source_data\")\n",
    "\n",
    "files = []\n",
    "files.append(os.path.join(source_folder,\"runstart16_X1.tif\"))\n",
    "files.append(os.path.join(source_folder,\"runstart16_X2.tif\"))\n",
    "\n",
    "filepath = files[0]"
   ]
  },
  {
   "cell_type": "code",
   "execution_count": null,
   "metadata": {},
   "outputs": [],
   "source": [
    "mask = np.array(Image.open(os.path.join(source_folder,\"mask_runstart16_X_left.png\")))==0\n",
    "mask = mask [:,:,0]\n",
    "mask = ~mask"
   ]
  },
  {
   "cell_type": "code",
   "execution_count": null,
   "metadata": {
    "scrolled": true
   },
   "outputs": [],
   "source": [
    "frames = np.array(skimage.io.imread(os.path.join(filepath)), dtype=np.double)[:1000]\n",
    "mean = np.mean(frames,axis=0)#pixelwise mean\n",
    "difference = framewise_difference(frames, mean, bigdata=True)\n",
    "mean = None"
   ]
  },
  {
   "cell_type": "code",
   "execution_count": null,
   "metadata": {
    "scrolled": true
   },
   "outputs": [],
   "source": [
    "frames = difference.copy()\n",
    "frames = remove_frequency_from_pixel_vectors(frames,15,20)"
   ]
  },
  {
   "cell_type": "code",
   "execution_count": null,
   "metadata": {
    "scrolled": true
   },
   "outputs": [],
   "source": [
    "frames = gaussian_filter(frames,2)"
   ]
  },
  {
   "cell_type": "code",
   "execution_count": null,
   "metadata": {
    "scrolled": true
   },
   "outputs": [],
   "source": [
    "expected = np.load(\"10_bins_expected_images_polynomial.npy\")"
   ]
  },
  {
   "cell_type": "markdown",
   "metadata": {},
   "source": [
    "# Remove the expected image from each frame"
   ]
  },
  {
   "cell_type": "code",
   "execution_count": null,
   "metadata": {
    "scrolled": true
   },
   "outputs": [],
   "source": [
    "expected = np.load(\"10_bins_expected_images_polynomial.npy\")"
   ]
  },
  {
   "cell_type": "code",
   "execution_count": null,
   "metadata": {},
   "outputs": [],
   "source": [
    "frames = substract_expected(frames, expected, True)"
   ]
  },
  {
   "cell_type": "code",
   "execution_count": null,
   "metadata": {},
   "outputs": [],
   "source": [
    "frames -= np.min(frames)"
   ]
  },
  {
   "cell_type": "code",
   "execution_count": null,
   "metadata": {},
   "outputs": [],
   "source": [
    "frames = apply_mask(frames, mask)"
   ]
  },
  {
   "cell_type": "code",
   "execution_count": null,
   "metadata": {},
   "outputs": [],
   "source": [
    "frames = normalize(frames)"
   ]
  },
  {
   "cell_type": "code",
   "execution_count": null,
   "metadata": {},
   "outputs": [],
   "source": [
    "plt.imshow(frames[0])"
   ]
  },
  {
   "cell_type": "code",
   "execution_count": null,
   "metadata": {},
   "outputs": [],
   "source": [
    "#frames = substract_pixel_min(frames)"
   ]
  },
  {
   "cell_type": "code",
   "execution_count": null,
   "metadata": {
    "scrolled": true
   },
   "outputs": [],
   "source": [
    "%%capture\n",
    "ani = show_video(normalize(frames[540:]), normalize(difference[540:]), n_frames=100, vmin = .1, vmax=.5)"
   ]
  },
  {
   "cell_type": "code",
   "execution_count": null,
   "metadata": {},
   "outputs": [],
   "source": [
    "HTML(ani)"
   ]
  },
  {
   "cell_type": "code",
   "execution_count": null,
   "metadata": {},
   "outputs": [],
   "source": [
    "from scipy.ndimage import binary_erosion\n",
    "from scipy.ndimage import binary_dilation"
   ]
  },
  {
   "cell_type": "code",
   "execution_count": null,
   "metadata": {},
   "outputs": [],
   "source": [
    "#ls = levelsets(frames[565:800], .1, .4, 8)"
   ]
  },
  {
   "cell_type": "code",
   "execution_count": null,
   "metadata": {},
   "outputs": [],
   "source": [
    "ls = levelsets(frames, .1, .5, 20)"
   ]
  },
  {
   "cell_type": "code",
   "execution_count": null,
   "metadata": {},
   "outputs": [],
   "source": [
    "test_array = ls[580][780:1400,:]"
   ]
  },
  {
   "cell_type": "code",
   "execution_count": null,
   "metadata": {},
   "outputs": [],
   "source": [
    "fig, ax = plt.subplots(1, figsize=(10,10))\n",
    "ax.imshow(test_array)"
   ]
  },
  {
   "cell_type": "code",
   "execution_count": null,
   "metadata": {},
   "outputs": [],
   "source": [
    "n_iterations = 8\n",
    "arr = binary_erosion(binary_dilation(test_array, iterations=n_iterations),iterations=n_iterations)\n",
    "plt.imshow(arr)"
   ]
  },
  {
   "cell_type": "code",
   "execution_count": null,
   "metadata": {},
   "outputs": [],
   "source": [
    "closed = framewise_closing(ls[:], n_iterations=12, smoothing=4, post_smoothing=4)"
   ]
  },
  {
   "cell_type": "code",
   "execution_count": null,
   "metadata": {},
   "outputs": [],
   "source": [
    "n_plots = 50\n",
    "start = 550\n",
    "fig, ax = plt.subplots(1,n_plots, figsize=(30,30))\n",
    "for i in range(0,n_plots):\n",
    "    ax[i].imshow(ls[start+i])\n",
    "    ax[i].axis(\"off\")"
   ]
  },
  {
   "cell_type": "code",
   "execution_count": null,
   "metadata": {},
   "outputs": [],
   "source": [
    "n_plots = 50\n",
    "fig, ax = plt.subplots(1,n_plots, figsize=(30,30))\n",
    "for i in range(0,n_plots):\n",
    "    ax[i].imshow(ls[start+i+80])\n",
    "    ax[i].axis(\"off\")"
   ]
  },
  {
   "cell_type": "code",
   "execution_count": null,
   "metadata": {},
   "outputs": [],
   "source": [
    "%%capture\n",
    "ani = show_video(ls[start:],closed[start:], n_frames = 100)"
   ]
  },
  {
   "cell_type": "code",
   "execution_count": null,
   "metadata": {},
   "outputs": [],
   "source": [
    "HTML(ani)"
   ]
  },
  {
   "cell_type": "code",
   "execution_count": null,
   "metadata": {},
   "outputs": [],
   "source": [
    "n_levels = 20\n",
    "ls1 = closed.reshape(len(closed),n_levels, closed[0].shape[0]//n_levels,closed[0].shape[1])"
   ]
  },
  {
   "cell_type": "code",
   "execution_count": null,
   "metadata": {},
   "outputs": [],
   "source": [
    "tensor_of_interest = normalize(np.mean(ls1[570:580,0:3,:,:],axis=(1)))"
   ]
  },
  {
   "cell_type": "code",
   "execution_count": null,
   "metadata": {},
   "outputs": [],
   "source": [
    "plt.imshow(tensor_of_interest[1])"
   ]
  },
  {
   "cell_type": "code",
   "execution_count": null,
   "metadata": {},
   "outputs": [],
   "source": [
    "assert np.all(np.mean(grayscale_to_booleans(tensor_of_interest[0], 12),axis=0)-tensor_of_interest[0] == 0.0)"
   ]
  },
  {
   "cell_type": "code",
   "execution_count": null,
   "metadata": {},
   "outputs": [],
   "source": [
    "ys, xs, bg = levelset_flow(tensor_of_interest, 2, stepsize=1)"
   ]
  },
  {
   "cell_type": "code",
   "execution_count": null,
   "metadata": {},
   "outputs": [],
   "source": [
    "bg = normalize(bg)"
   ]
  },
  {
   "cell_type": "code",
   "execution_count": null,
   "metadata": {},
   "outputs": [],
   "source": [
    "#ys, xs = horn_schunck(gaussian_filter(tensor_of_interest.astype(np.float32),2))"
   ]
  },
  {
   "cell_type": "code",
   "execution_count": null,
   "metadata": {},
   "outputs": [],
   "source": [
    "fig, ax = display_combined(dy[0],dx[0], tensor_of_interest[1])\n",
    "frames = len(ys)\n",
    "\n",
    "def animate(i):\n",
    "    print(\".\", end =\"\")    \n",
    "    display_combined(ys[i],xs[i], bg[i], quivstep=1,  fig=fig, ax=ax, scale=1)\n",
    "\n",
    "ani = matplotlib.animation.FuncAnimation(fig, animate, frames=frames).to_jshtml()"
   ]
  },
  {
   "cell_type": "code",
   "execution_count": null,
   "metadata": {
    "scrolled": false
   },
   "outputs": [],
   "source": [
    "HTML(ani)"
   ]
  },
  {
   "cell_type": "code",
   "execution_count": null,
   "metadata": {},
   "outputs": [],
   "source": [
    "tensor_of_interest = normalize(np.mean(ls1[560:900,0:1,:,:],axis=(1)))"
   ]
  },
  {
   "cell_type": "code",
   "execution_count": null,
   "metadata": {},
   "outputs": [],
   "source": [
    "tensor_of_interest = normalize(gaussian_filter(tensor_of_interest[:],[1,10,10]))>.1#Smoothen outline"
   ]
  },
  {
   "cell_type": "code",
   "execution_count": null,
   "metadata": {},
   "outputs": [],
   "source": [
    "x_comp, y_comp = horn_schunck(normalize(gaussian_filter(tensor_of_interest.astype(np.float32),[0,5,10])), 305)"
   ]
  },
  {
   "cell_type": "code",
   "execution_count": null,
   "metadata": {},
   "outputs": [],
   "source": [
    "%%capture\n",
    "ani = show_video(normalize(gaussian_filter(tensor_of_interest.astype(np.float32),[0,5,10])),n_frames=100)"
   ]
  },
  {
   "cell_type": "code",
   "execution_count": null,
   "metadata": {},
   "outputs": [],
   "source": [
    "HTML(ani)"
   ]
  },
  {
   "cell_type": "code",
   "execution_count": null,
   "metadata": {},
   "outputs": [],
   "source": [
    "def dense_to_contour_vectors(tensor, y_comp, x_comp):\n",
    "    y_out = np.ndarray(y_comp.shape)\n",
    "    x_out = np.ndarray(x_comp.shape)\n",
    "    y_out.fill(np.nan)\n",
    "    x_out.fill(np.nan)\n",
    "\n",
    "    for i, [y,x,frame] in enumerate(zip(y_comp, x_comp, tensor)):\n",
    "        values = set(np.array(frame.flatten()))\n",
    "        values.remove(0)\n",
    "        for v in values:  \n",
    "            frame1 = frame == v\n",
    "            eroded = frame1.astype(np.int32)-binary_erosion(frame1, iterations=1).astype(np.int32)\n",
    "            y_out[i][eroded==1] = y[eroded==1]\n",
    "            x_out[i][eroded==1] = x[eroded==1]\n",
    "    return y_out, x_out"
   ]
  },
  {
   "cell_type": "code",
   "execution_count": null,
   "metadata": {},
   "outputs": [],
   "source": [
    "print(1)"
   ]
  },
  {
   "cell_type": "code",
   "execution_count": null,
   "metadata": {},
   "outputs": [],
   "source": [
    "x_comp, y_comp = dense_to_contour_vectors(tensor_of_interest[:], x_comp[:], y_comp[:])"
   ]
  },
  {
   "cell_type": "code",
   "execution_count": null,
   "metadata": {},
   "outputs": [],
   "source": [
    "#x_comp[:,mask] = np.nan\n",
    "#y_comp[:,mask] = np.nan"
   ]
  },
  {
   "cell_type": "code",
   "execution_count": null,
   "metadata": {},
   "outputs": [],
   "source": [
    "%%capture\n",
    "fig, ax = display_combined(x_comp[0],y_comp[0], tensor_of_interest[1])\n",
    "time_text = plt.figtext(0.5, 0.01, \"time \" + str(i), ha=\"center\", fontsize=18)\n",
    "\n",
    "def animate(i):\n",
    "    global time_text\n",
    "    print(\".\", end =\"\")    \n",
    "    display_combined(y_comp[i],x_comp[i], tensor_of_interest[i], fig=fig, ax=ax, scale=50, quivstep = 1)\n",
    "    time_text.set_text('time = %.1d' % i)\n",
    "\n",
    "ani = matplotlib.animation.FuncAnimation(fig, animate, frames=300)"
   ]
  },
  {
   "cell_type": "code",
   "execution_count": null,
   "metadata": {},
   "outputs": [],
   "source": [
    "HTML(ani.to_jshtml())"
   ]
  },
  {
   "cell_type": "code",
   "execution_count": null,
   "metadata": {},
   "outputs": [],
   "source": [
    "fig, ax = plt.subplots(1, figsize=(15,10))\n",
    "ax.plot(np.nansum(x_comp, axis=(1,2))[:], c=\"lightgray\", label=\"x component\")\n",
    "ax.plot(np.nansum(-y_comp, axis=(1,2))[:],c=\"darkblue\", label = \"y component\")\n",
    "ax.axvline(78, c = \"gray\")\n",
    "ax.set_xlabel(\"Frame\")\n",
    "ax.set_ylabel(\"Mean component of vectors [upwards/rightwards]\")"
   ]
  },
  {
   "cell_type": "code",
   "execution_count": null,
   "metadata": {},
   "outputs": [],
   "source": [
    "%%capture\n",
    "fig, ax = display_combined(x_comp[0],y_comp[0], tensor_of_interest[1])\n",
    "\n",
    "def animate(i):\n",
    "    print(\".\", end =\"\")    \n",
    "    display_combined(y_comp[i],x_comp[i], tensor_of_interest[i], fig=fig, ax=ax, scale=50, quivstep = 1)\n",
    "ani = matplotlib.animation.FuncAnimation(fig, animate, frames=300)"
   ]
  },
  {
   "cell_type": "markdown",
   "metadata": {},
   "source": [
    "# Towards histograms of motion"
   ]
  },
  {
   "cell_type": "code",
   "execution_count": null,
   "metadata": {},
   "outputs": [],
   "source": [
    "print(\"The upper half circle is negative\")\n",
    "print(\"left  = -180 deg\")\n",
    "print(\"up    =  -90 deg\")\n",
    "print(\"right =    0 deg\")\n",
    "print(\"down  =  +90 deg\")\n",
    "print(\"left  =  180 deg\")"
   ]
  },
  {
   "cell_type": "code",
   "execution_count": null,
   "metadata": {},
   "outputs": [],
   "source": [
    "plot_vector_as_field(y=-0.001, x=-1)"
   ]
  },
  {
   "cell_type": "code",
   "execution_count": null,
   "metadata": {},
   "outputs": [],
   "source": [
    "plot_vector_as_field(y=0,x=1)"
   ]
  },
  {
   "cell_type": "markdown",
   "metadata": {},
   "source": [
    "# Expectation and histogram\n",
    "\n",
    "We would want to have something to capture the upward trend."
   ]
  },
  {
   "cell_type": "code",
   "execution_count": null,
   "metadata": {},
   "outputs": [],
   "source": [
    "display_combined(vois_y,vois_x,vois_y, quivstep=1, scale=10)"
   ]
  },
  {
   "cell_type": "markdown",
   "metadata": {},
   "source": [
    "For position 10 we see a positive value for the average y component (overall trend of motion)"
   ]
  },
  {
   "cell_type": "code",
   "execution_count": null,
   "metadata": {},
   "outputs": [],
   "source": [
    "vois_x = x_comp[10]\n",
    "vois_y = y_comp[10]\n",
    "plt.plot(np.nansum(-y_comp, axis=(1,2))[:])\n",
    "plt.axvline(10, c = \"gray\")"
   ]
  },
  {
   "cell_type": "code",
   "execution_count": null,
   "metadata": {},
   "outputs": [],
   "source": [
    "plt.plot(np.nansum(x_comp, axis=(1,2))[:])\n",
    "plt.axvline(10, c = \"gray\")"
   ]
  },
  {
   "cell_type": "markdown",
   "metadata": {},
   "source": [
    "For a random location at the upper left outline arctan2 indicates what is expected (sanity check)"
   ]
  },
  {
   "cell_type": "code",
   "execution_count": null,
   "metadata": {},
   "outputs": [],
   "source": [
    "plot_vector_as_field(vois_x[109,62],vois_y[109,62])"
   ]
  },
  {
   "cell_type": "markdown",
   "metadata": {},
   "source": [
    "# The average vector indicates upward motion"
   ]
  },
  {
   "cell_type": "code",
   "execution_count": null,
   "metadata": {},
   "outputs": [],
   "source": [
    "plot_vector_as_field(np.nanmean(vois_y),np.nanmean(vois_x))"
   ]
  },
  {
   "cell_type": "code",
   "execution_count": null,
   "metadata": {},
   "outputs": [],
   "source": [
    "x = vois_x[~np.isnan(vois_x)]\n",
    "y = vois_y[~np.isnan(vois_y)]\n",
    "\n",
    "mask = ~np.logical_and(x==0,y==0)\n",
    "x = x[mask]\n",
    "y = y[mask]\n",
    "mag = np.sqrt(x**2, y**2)\n",
    "dir = np.rad2deg(np.arctan2(y,x))"
   ]
  },
  {
   "cell_type": "code",
   "execution_count": null,
   "metadata": {},
   "outputs": [],
   "source": [
    "weighted_hist = np.histogram(dir, weights= mag**4 ,bins= 36)\n",
    "hist = np.histogram(dir, bins= 36)"
   ]
  },
  {
   "cell_type": "code",
   "execution_count": null,
   "metadata": {},
   "outputs": [],
   "source": [
    "plt.plot(hist[1][:-1],hist[0])\n",
    "#plt.plot(weighted_hist[1][:-1],weighted_hist[0])\n",
    "#plt.plot(weighted_hist[1][:-1],weighted_hist[0]/hist[0])"
   ]
  },
  {
   "cell_type": "markdown",
   "metadata": {},
   "source": [
    "--> Weighted histograms do not have a peak at the expected position (average direction)"
   ]
  },
  {
   "cell_type": "code",
   "execution_count": null,
   "metadata": {},
   "outputs": [],
   "source": [
    "def histograms_of_motion(x_comp, y_comp, bins = 36, weighted = True):\n",
    "    x_comp = x_comp.reshape(x_comp.shape[0],x_comp.shape[1]*x_comp.shape[2])\n",
    "    y_comp = y_comp.reshape(y_comp.shape[0],y_comp.shape[1]*y_comp.shape[2])\n",
    "    \n",
    "    histograms = []\n",
    "    \n",
    "    for x, y in zip(x_comp, y_comp):\n",
    "        x = x[~np.isnan(x)]\n",
    "        y = y[~np.isnan(y)]\n",
    "        \n",
    "        mask = ~np.logical_and(x==0,y==0)\n",
    "        x = x[mask]\n",
    "        y = y[mask]\n",
    "        assert len(x) == len(y)\n",
    "        mag = np.sqrt(x**2, y**2)\n",
    "        dir = np.rad2deg(np.arctan2(y,x))\n",
    "        if weighted:\n",
    "            hist = np.histogram(dir, weights = mag, bins=bins, range=(-180,180))[0]\n",
    "        else:\n",
    "            hist = np.histogram(dir, bins=bins, range=(0,360))[0]\n",
    "        #if np.sum(hist) !=0:\n",
    "        #    histograms.append(normalize(hist))\n",
    "        #else:\n",
    "        histograms.append(hist)\n",
    "    return np.array(histograms).T"
   ]
  },
  {
   "cell_type": "code",
   "execution_count": null,
   "metadata": {},
   "outputs": [],
   "source": [
    "total_y  = -np.nansum(y_comp,axis=(1,2))\n",
    "total_y /= np.max([np.max(total_y),np.min(total_y)])\n",
    "#plt.plot(np.nansum(x_comp,axis=(1,2)))"
   ]
  },
  {
   "cell_type": "code",
   "execution_count": null,
   "metadata": {},
   "outputs": [],
   "source": [
    "hists = histograms_of_motion(x_comp, y_comp, bins=360)"
   ]
  },
  {
   "cell_type": "code",
   "execution_count": null,
   "metadata": {},
   "outputs": [],
   "source": [
    "test_y = np.array([[[.01]],[[.01]],[[-1]],[[1]]], dtype=np.float32)\n",
    "test_x = np.array([[[-1]],[[1]],[[.1]],[[.1]]], dtype=np.float32)"
   ]
  },
  {
   "cell_type": "code",
   "execution_count": null,
   "metadata": {},
   "outputs": [],
   "source": [
    "hists = histograms_of_motion(x_comp, y_comp, bins=36)"
   ]
  },
  {
   "cell_type": "code",
   "execution_count": null,
   "metadata": {},
   "outputs": [],
   "source": [
    "fig, ax = plt.subplots(1, figsize=(15,15))\n",
    "ax.set_yticks([0,9,18,27,35])\n",
    "ax.set_yticklabels([\"left\",\"up\",\"right\",\"down\",\"left\"])\n",
    "\n",
    "#ax.plot(np.nansum(x_comp,axis=(1,2)))\n",
    "\n",
    "ax.imshow(np.log(hists[:,:]+1), aspect=1)"
   ]
  },
  {
   "cell_type": "markdown",
   "metadata": {},
   "source": [
    "# Correct vector fields"
   ]
  },
  {
   "cell_type": "code",
   "execution_count": null,
   "metadata": {},
   "outputs": [],
   "source": [
    "n_levels = 20\n",
    "ls = levelsets(frames, .1, .5, n_levels)\n",
    "closed = framewise_closing(ls[:], n_iterations=12, smoothing=4, post_smoothing=4)\n",
    "ls1 = closed.reshape(len(closed),n_levels, closed[0].shape[0]//n_levels,closed[0].shape[1])\n",
    "reassembled = normalize(np.mean(ls1[560:900,:,:,:],axis=(1)))\n",
    "smooth_reassembled = gaussian_filter(reassembled,[0,10,10])\n",
    "y_comp_expected, x_comp_expected = expected_flow(smooth_reassembled, 202)"
   ]
  },
  {
   "cell_type": "code",
   "execution_count": null,
   "metadata": {},
   "outputs": [],
   "source": [
    "%%capture\n",
    "ani = show_video(gaussian_filter(reassembled,10),n_frames=200)"
   ]
  },
  {
   "cell_type": "code",
   "execution_count": null,
   "metadata": {},
   "outputs": [],
   "source": [
    "HTML(ani)"
   ]
  },
  {
   "cell_type": "code",
   "execution_count": null,
   "metadata": {},
   "outputs": [],
   "source": [
    "x_comp, y_comp = horn_schunck(gaussian_filter(reassembled,[0,10,10]), 202)"
   ]
  },
  {
   "cell_type": "code",
   "execution_count": null,
   "metadata": {},
   "outputs": [],
   "source": [
    "%%capture\n",
    "fig, ax = display_combined(x_comp[0],y_comp[0], reassembled[1], quivstep = 10)\n",
    "time_text = plt.figtext(0.5, 0.01, \"time \" + str(0), ha=\"center\", fontsize=18)\n",
    "\n",
    "def animate(i):\n",
    "    global time_text\n",
    "    print(\".\", end =\"\")    \n",
    "    display_combined(y_comp[i],x_comp[i], reassembled[i], fig=fig, ax=ax, scale=500, quivstep = 5)\n",
    "    time_text.set_text('time = %.1d' % i)\n",
    "\n",
    "ani = matplotlib.animation.FuncAnimation(fig, animate, frames=200)"
   ]
  },
  {
   "cell_type": "code",
   "execution_count": null,
   "metadata": {},
   "outputs": [],
   "source": [
    "plt.plot(np.mean(reassembled, axis=(1,2)))"
   ]
  },
  {
   "cell_type": "code",
   "execution_count": null,
   "metadata": {},
   "outputs": [],
   "source": [
    "HTML(ani.to_jshtml())"
   ]
  },
  {
   "cell_type": "code",
   "execution_count": null,
   "metadata": {},
   "outputs": [],
   "source": [
    "y_comp_expected, x_comp_expected = expected_flow(smooth_reassembled, 202)"
   ]
  },
  {
   "cell_type": "code",
   "execution_count": null,
   "metadata": {},
   "outputs": [],
   "source": [
    "current_frame = 11\n",
    "#display_combined(y_comp[current_frame],x_comp[current_frame], reassembled[current_frame], quivstep=5, scale=500)"
   ]
  },
  {
   "cell_type": "code",
   "execution_count": null,
   "metadata": {},
   "outputs": [],
   "source": [
    "y_comp_corrected, x_comp_corrected = correct_vector_fields(y_comp, y_comp_expected, x_comp, x_comp_expected, logscale = True)"
   ]
  },
  {
   "cell_type": "code",
   "execution_count": null,
   "metadata": {},
   "outputs": [],
   "source": [
    "fig, ax = plt.subplots(2, figsize=(10,10))\n",
    "\n",
    "ax[0].axhline(0, c=\"gray\")\n",
    "ax[0].plot(np.nanmean(-np.array(y_comp_corrected), axis=(1,2)))\n",
    "ax[0].set_xlabel(\"Frame\")\n",
    "ax[0].set_ylabel(\"Motion score [up/down]\")\n",
    "\n",
    "ax[1].axhline(0, c=\"gray\")\n",
    "ax[1].plot(np.nanmean(-np.array(x_comp_corrected), axis=(1,2)))\n",
    "ax[1].set_xlabel(\"Frame\")\n",
    "ax[1].set_ylabel(\"Motion score [left/right]\")"
   ]
  },
  {
   "cell_type": "code",
   "execution_count": null,
   "metadata": {},
   "outputs": [],
   "source": [
    "y_comp_corrected, x_comp_corrected = correct_vector_fields(y_comp, y_comp_expected, pre_log_factor = 5000)"
   ]
  },
  {
   "cell_type": "code",
   "execution_count": null,
   "metadata": {},
   "outputs": [],
   "source": [
    "y_comp_corrected = gaussian_filter(y_comp_corrected*100,1)\n",
    "x_comp_corrected = gaussian_filter(x_comp_corrected*100,1)"
   ]
  },
  {
   "cell_type": "code",
   "execution_count": null,
   "metadata": {},
   "outputs": [],
   "source": [
    "%%capture\n",
    "i = 0\n",
    "fig, ax = display_combined(x_comp_corrected[0],y_comp_corrected[0], reassembled[1], quivstep = 10)\n",
    "time_text = plt.figtext(0.5, 0.01, \"time \" + str(0), ha=\"center\", fontsize=18)\n",
    "\n",
    "def animate(i):\n",
    "    global time_text\n",
    "    print(\".\", end =\"\")    \n",
    "    display_combined(y_comp_corrected[i],x_comp_corrected[i],reassembled[i], fig=fig, ax=ax, scale=3, quivstep = 5, head_width=2.5)\n",
    "    time_text.set_text('time = %.1d' % i)\n",
    "\n",
    "ani = matplotlib.animation.FuncAnimation(fig, animate, frames=50)"
   ]
  },
  {
   "cell_type": "code",
   "execution_count": null,
   "metadata": {},
   "outputs": [],
   "source": [
    "HTML(ani.to_jshtml())"
   ]
  },
  {
   "cell_type": "code",
   "execution_count": null,
   "metadata": {},
   "outputs": [],
   "source": [
    "from pynhhd import nHHD\n",
    "\n",
    "def helmholtz_decomposition(y_comp, x_comp):\n",
    "    vfield = np.array([y_comp,x_comp])\n",
    "    vfield = np.einsum(\"ijk->kij\",vfield)\n",
    "    vfield = np.einsum(\"ijk->kij\",vfield)\n",
    "    dims = (vfield.shape[0],vfield.shape[1])\n",
    "    nhhd = nHHD(grid=dims, spacings=(0.1,0.1))\n",
    "    nhhd.decompose(vfield)\n",
    "    return nhhd.r, nhhd.d, nhhd.h"
   ]
  },
  {
   "cell_type": "code",
   "execution_count": null,
   "metadata": {},
   "outputs": [],
   "source": [
    "y_comp[np.isnan(y_comp)] = 0"
   ]
  },
  {
   "cell_type": "code",
   "execution_count": null,
   "metadata": {},
   "outputs": [],
   "source": [
    "x_comp[np.isnan(x_comp)] = 0"
   ]
  },
  {
   "cell_type": "code",
   "execution_count": null,
   "metadata": {},
   "outputs": [],
   "source": [
    "r, d, h = helmholtz_decomposition(y_comp[10], x_comp[10])"
   ]
  },
  {
   "cell_type": "code",
   "execution_count": null,
   "metadata": {},
   "outputs": [],
   "source": [
    "display_combined(r[:,:,1],r[:,:,0],tensor_of_interest[10],quivstep=3,scale=100, head_width = 2)\n",
    "plt.show()"
   ]
  },
  {
   "cell_type": "code",
   "execution_count": null,
   "metadata": {},
   "outputs": [],
   "source": [
    "i_frame = 10\n",
    "display_combined(x_comp[i_frame],y_comp[i_frame],np.sqrt(y_comp[3]**2+x_comp[3]**2)*100, quivstep=3)"
   ]
  },
  {
   "cell_type": "code",
   "execution_count": null,
   "metadata": {},
   "outputs": [],
   "source": [
    "%%capture\n",
    "lengths = np.sqrt(x_comp**2+y_comp**2)\n",
    "ani = show_video(lengths*10, n_frames=90)"
   ]
  },
  {
   "cell_type": "code",
   "execution_count": null,
   "metadata": {},
   "outputs": [],
   "source": [
    "%%capture\n",
    "ani = show_video(normalize(max_filtered[550:]), normalize(difference[550:]), n_frames=50, vmin = .1, vmax=.3)"
   ]
  },
  {
   "cell_type": "code",
   "execution_count": null,
   "metadata": {},
   "outputs": [],
   "source": [
    "HTML(ani)"
   ]
  },
  {
   "cell_type": "code",
   "execution_count": null,
   "metadata": {},
   "outputs": [],
   "source": [
    "%%capture\n",
    "ani = show_video(normalize(gaussian_filter(interpolated,2)), n_frames=199, vmin = .1, vmax=.5)"
   ]
  },
  {
   "cell_type": "code",
   "execution_count": null,
   "metadata": {},
   "outputs": [],
   "source": [
    "HTML(ani)"
   ]
  },
  {
   "cell_type": "code",
   "execution_count": null,
   "metadata": {},
   "outputs": [],
   "source": [
    "x_comp, y_comp = horn_schunck(normalize(gaussian_filter(interpolated,2)), 150)"
   ]
  },
  {
   "cell_type": "code",
   "execution_count": null,
   "metadata": {},
   "outputs": [],
   "source": [
    "np.save(\"test_vector_field.npy\",np.array([x_comp[75],y_comp[75]]))"
   ]
  },
  {
   "cell_type": "code",
   "execution_count": null,
   "metadata": {},
   "outputs": [],
   "source": [
    "%%capture\n",
    "fig, ax = display_combined(x_comp[0],y_comp[0], interpolated[1])\n",
    "start = 70\n",
    "n_frames = 10\n",
    "\n",
    "def animate(i):\n",
    "    global start\n",
    "    i += start\n",
    "    print(\".\", end =\"\")    \n",
    "    display_combined(y_comp[i],x_comp[i], interpolated[i+1], fig=fig, ax=ax, scale=1000)\n",
    "\n",
    "ani = matplotlib.animation.FuncAnimation(fig, animate, frames=n_frames)"
   ]
  },
  {
   "cell_type": "code",
   "execution_count": null,
   "metadata": {},
   "outputs": [],
   "source": [
    "HTML(ani.to_jshtml())"
   ]
  },
  {
   "cell_type": "code",
   "execution_count": null,
   "metadata": {},
   "outputs": [],
   "source": [
    "#from scipy.ndimage.measurements import center_of_mass"
   ]
  },
  {
   "cell_type": "code",
   "execution_count": null,
   "metadata": {},
   "outputs": [],
   "source": [
    "left_hemisphere = difference[:,:,:160]\n",
    "right_hemisphere = difference[:,:,160:]\n",
    "cm_left = np.array([center_of_mass(f) for f in left_hemisphere])\n",
    "cm_right = np.array([center_of_mass(f) for f in right_hemisphere])\n",
    "\n",
    "fig, ax = plt.subplots(3)\n",
    "fig.suptitle(\"Center of mass (contrast to mean image)\")\n",
    "ax[0].plot(np.sum(difference, axis=(1,2)))\n",
    "\n",
    "ax[1].plot(cm_right[:,0])\n",
    "ax[1].plot(cm_left[:,0])\n",
    "\n",
    "ax[2].plot(cm_right[:,1])\n",
    "ax[2].plot(cm_left[:,1])"
   ]
  },
  {
   "cell_type": "code",
   "execution_count": null,
   "metadata": {},
   "outputs": [],
   "source": [
    "left_hemisphere = frames[:,:,:160]\n",
    "right_hemisphere = frames[:,:,160:]\n",
    "cm_left = np.array([center_of_mass(f) for f in left_hemisphere])\n",
    "cm_right = np.array([center_of_mass(f) for f in right_hemisphere])\n",
    "\n",
    "fig, ax = plt.subplots(3)\n",
    "fig.suptitle(\"Center of mass (contrast expected image)\")\n",
    "\n",
    "ax[0].plot(np.sum(difference, axis=(1,2)))\n",
    "\n",
    "ax[1].plot(cm_right[:,0]-np.mean(cm_right[:,0]))\n",
    "ax[1].plot(cm_left[:,0]-np.mean(cm_left[:,0]))\n",
    "\n",
    "ax[2].plot(cm_right[:,1])\n",
    "ax[2].plot(cm_left[:,1])"
   ]
  },
  {
   "cell_type": "code",
   "execution_count": null,
   "metadata": {},
   "outputs": [],
   "source": [
    "%%capture\n",
    "ani = show_video(normalize(max_filtered[600:]), normalize(difference[600:]), n_frames=200, vmin = .3, vmax=.7)"
   ]
  },
  {
   "cell_type": "code",
   "execution_count": null,
   "metadata": {
    "scrolled": true
   },
   "outputs": [],
   "source": [
    "# use median!"
   ]
  }
 ],
 "metadata": {
  "kernelspec": {
   "display_name": "Python 3",
   "language": "python",
   "name": "python3"
  },
  "language_info": {
   "codemirror_mode": {
    "name": "ipython",
    "version": 3
   },
   "file_extension": ".py",
   "mimetype": "text/x-python",
   "name": "python",
   "nbconvert_exporter": "python",
   "pygments_lexer": "ipython3",
   "version": "3.7.6"
  }
 },
 "nbformat": 4,
 "nbformat_minor": 2
}
