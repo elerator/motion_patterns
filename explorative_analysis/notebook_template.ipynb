{
 "cells": [
  {
   "cell_type": "markdown",
   "metadata": {},
   "source": [
    "# Context"
   ]
  },
  {
   "cell_type": "markdown",
   "metadata": {},
   "source": [
    "This is what is investigated here"
   ]
  },
  {
   "cell_type": "markdown",
   "metadata": {},
   "source": [
    "# Imports"
   ]
  },
  {
   "cell_type": "code",
   "execution_count": 51,
   "metadata": {},
   "outputs": [],
   "source": [
    "from skimage import io\n",
    "import skimage\n",
    "import numpy as np\n",
    "import matplotlib.pyplot as plt\n",
    "from scipy.ndimage import gaussian_filter, uniform_filter\n",
    "import pickle"
   ]
  },
  {
   "cell_type": "code",
   "execution_count": 44,
   "metadata": {},
   "outputs": [],
   "source": [
    "import imageio\n",
    "from pathlib import Path\n",
    "from matplotlib.pyplot import show\n",
    "from argparse import ArgumentParser\n",
    "\n",
    "from pyoptflow.plots import compareGraphs"
   ]
  },
  {
   "cell_type": "code",
   "execution_count": 45,
   "metadata": {},
   "outputs": [],
   "source": [
    "from PIL import Image\n",
    "import os\n",
    "from scipy.signal import argrelextrema\n",
    "from skimage import exposure"
   ]
  },
  {
   "cell_type": "code",
   "execution_count": 37,
   "metadata": {},
   "outputs": [],
   "source": [
    "import matplotlib\n",
    "import matplotlib.animation\n",
    "from IPython.display import HTML\n",
    "matplotlib.rcParams['animation.embed_limit'] = 2**128"
   ]
  },
  {
   "cell_type": "markdown",
   "metadata": {},
   "source": [
    "### Import our custom utility methods"
   ]
  },
  {
   "cell_type": "code",
   "execution_count": 30,
   "metadata": {},
   "outputs": [],
   "source": [
    "import sys\n",
    "%reload_ext autoreload\n",
    "%autoreload 2\n",
    "sys.path.append('..')\n",
    "\n",
    "from utils.visualization_tools import *\n",
    "import utils.visualization_tools\n",
    "from utils.data_transformations import *\n",
    "import utils.data_transformations\n",
    "from utils.diverse import *\n",
    "import utils.diverse"
   ]
  },
  {
   "cell_type": "markdown",
   "metadata": {},
   "source": [
    "The following modules are available"
   ]
  },
  {
   "cell_type": "code",
   "execution_count": 31,
   "metadata": {},
   "outputs": [
    {
     "name": "stdout",
     "output_type": "stream",
     "text": [
      "print_module_methods(module)\n",
      "\n"
     ]
    }
   ],
   "source": [
    "print_module_methods(utils.diverse)"
   ]
  },
  {
   "cell_type": "code",
   "execution_count": 27,
   "metadata": {},
   "outputs": [
    {
     "name": "stdout",
     "output_type": "stream",
     "text": [
      "display_combined(u, v, Inew, scale=100, quivstep=3, fig=None, ax=None, figsize=(10, 10), vmin=0, vmax=1)\n",
      "\n"
     ]
    }
   ],
   "source": [
    "print_module_methods(utils.visualization_tools)"
   ]
  },
  {
   "cell_type": "code",
   "execution_count": 28,
   "metadata": {},
   "outputs": [
    {
     "name": "stdout",
     "output_type": "stream",
     "text": [
      "apply_mask(frames, mask)\n",
      "\n",
      "clipped_adaptive(tensor, clipping=0.8)\n",
      "\n",
      "fourier(signal, sampling_rate=100)\n",
      "\n",
      "framewise_difference(frames, pixelwise_mean, bigdata=False)\n",
      "\n",
      "gaussian_filter(input, sigma, order=0, output=None, mode='reflect', cval=0.0, truncate=4.0)\n",
      "\n",
      "horn_schunck(tensor, frames=None)\n",
      "\n",
      "maxima(vector, pre_smoothing=100, minval=0)\n",
      "\n",
      "normalize(frames)\n",
      "\n",
      "substract_pixel_min(tensor)\n",
      "\n",
      "uniform_filter(input, size=3, output=None, mode='reflect', cval=0.0, origin=0)\n",
      "\n"
     ]
    }
   ],
   "source": [
    "print_module_methods(utils.data_transformations)"
   ]
  }
 ],
 "metadata": {
  "kernelspec": {
   "display_name": "Python 3",
   "language": "python",
   "name": "python3"
  },
  "language_info": {
   "codemirror_mode": {
    "name": "ipython",
    "version": 3
   },
   "file_extension": ".py",
   "mimetype": "text/x-python",
   "name": "python",
   "nbconvert_exporter": "python",
   "pygments_lexer": "ipython3",
   "version": "3.7.6"
  }
 },
 "nbformat": 4,
 "nbformat_minor": 2
}
