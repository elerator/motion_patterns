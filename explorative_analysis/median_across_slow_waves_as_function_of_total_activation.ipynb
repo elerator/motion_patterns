{
 "cells": [
  {
   "cell_type": "markdown",
   "metadata": {},
   "source": [
    "# Context"
   ]
  },
  {
   "cell_type": "markdown",
   "metadata": {},
   "source": [
    "Anatomical structures have an impact on the detected optical flow during slow wave events. One may try to remove this impact by removing the average activation for total activation value. This way one is left with what is different for the given slow wave event. \n",
    "\n",
    "To achieve this one requires the expected value (median) for all pixels given the mean of the frame:\n",
    "\n",
    "$$\\mathbf{E}(\\omega_{ij}\\mid \\mathbf{E}(\\omega)=k)$$\n",
    "\n",
    "\n",
    "The median is more robust with respect to small peaks that affect the overall predicted image and potentially introduces artifacts.\n"
   ]
  },
  {
   "cell_type": "markdown",
   "metadata": {},
   "source": [
    "# Imports"
   ]
  },
  {
   "cell_type": "code",
   "execution_count": null,
   "metadata": {
    "scrolled": false
   },
   "outputs": [],
   "source": [
    "from skimage import io\n",
    "import skimage\n",
    "import numpy as np\n",
    "import matplotlib.pyplot as plt\n",
    "from scipy.ndimage import gaussian_filter, uniform_filter\n",
    "import pickle"
   ]
  },
  {
   "cell_type": "code",
   "execution_count": null,
   "metadata": {
    "scrolled": false
   },
   "outputs": [],
   "source": [
    "import imageio\n",
    "from pathlib import Path\n",
    "from matplotlib.pyplot import show\n",
    "from argparse import ArgumentParser\n",
    "\n",
    "from pyoptflow import HornSchunck, getimgfiles\n",
    "from pyoptflow.plots import compareGraphs"
   ]
  },
  {
   "cell_type": "code",
   "execution_count": null,
   "metadata": {
    "scrolled": false
   },
   "outputs": [],
   "source": [
    "from PIL import Image\n",
    "import os\n",
    "from scipy.signal import argrelextrema\n",
    "from skimage import exposure"
   ]
  },
  {
   "cell_type": "code",
   "execution_count": null,
   "metadata": {
    "scrolled": false
   },
   "outputs": [],
   "source": [
    "import matplotlib\n",
    "import matplotlib.animation\n",
    "from IPython.display import HTML\n",
    "matplotlib.rcParams['animation.embed_limit'] = 2**128"
   ]
  },
  {
   "cell_type": "code",
   "execution_count": null,
   "metadata": {
    "scrolled": false
   },
   "outputs": [],
   "source": [
    "np.array(np.clip([300],0,255), dtype=np.uint8)"
   ]
  },
  {
   "cell_type": "markdown",
   "metadata": {},
   "source": [
    "### Import our custom utility methods"
   ]
  },
  {
   "cell_type": "code",
   "execution_count": null,
   "metadata": {
    "scrolled": false
   },
   "outputs": [],
   "source": [
    "import sys\n",
    "%reload_ext autoreload\n",
    "%autoreload 2\n",
    "sys.path.append('..')\n",
    "\n",
    "from utils.visualization_tools import *\n",
    "import utils.visualization_tools\n",
    "from utils.data_transformations import *\n",
    "import utils.data_transformations\n",
    "from utils.diverse import *\n",
    "import utils.diverse"
   ]
  },
  {
   "cell_type": "markdown",
   "metadata": {},
   "source": [
    "The following modules are available"
   ]
  },
  {
   "cell_type": "code",
   "execution_count": null,
   "metadata": {
    "scrolled": false
   },
   "outputs": [],
   "source": [
    "print_module_methods(utils.diverse)"
   ]
  },
  {
   "cell_type": "code",
   "execution_count": null,
   "metadata": {
    "scrolled": false
   },
   "outputs": [],
   "source": [
    "print_module_methods(utils.visualization_tools)"
   ]
  },
  {
   "cell_type": "code",
   "execution_count": null,
   "metadata": {
    "scrolled": false
   },
   "outputs": [],
   "source": [
    "print_module_methods(utils.data_transformations)"
   ]
  },
  {
   "cell_type": "markdown",
   "metadata": {},
   "source": [
    "# Methods for pipeline"
   ]
  },
  {
   "cell_type": "code",
   "execution_count": null,
   "metadata": {
    "scrolled": true
   },
   "outputs": [],
   "source": [
    "import numpy as np\n",
    "from scipy.interpolate import interp1d\n",
    "\n",
    "def value_range_of_frame_means(filepaths, mean=\"average\"):\n",
    "    \"\"\" Retrieve value-range of several files. This method is slow but it opens one file at a time only such that the memory requirements are limited.\n",
    "    Args:\n",
    "        filepaths: List of filepaths to tif files\n",
    "    Returns:\n",
    "        min: Minimum value\n",
    "        max: Maximal value\n",
    "    \"\"\"\n",
    "    mean_function = np.mean\n",
    "    if mean == \"median\":\n",
    "        mean_function = np.median\n",
    "        \n",
    "    prelim_min = float(\"inf\")\n",
    "    prelim_max = -float(\"inf\")\n",
    "    for filepath in filepaths:\n",
    "        print(\".\", end=\"\")\n",
    "        frames = np.array(skimage.io.imread(os.path.join(filepath)), dtype=np.double)\n",
    "        print(\".\", end= \"\")\n",
    "        mean = np.mean(frames,axis=0)#pixelwise mean\n",
    "        print(\".\", end = \"\")\n",
    "        frames = framewise_difference(frames, mean, bigdata=True)\n",
    "        mean = None\n",
    "\n",
    "        min_val = np.min(mean_function(frames,axis=(1,2)))#maximal value of framewise mean\n",
    "        max_val = np.max(mean_function(frames,axis=(1,2)))\n",
    "\n",
    "        if min_val < prelim_min:\n",
    "            prelim_min = min_val\n",
    "        if max_val > prelim_max:\n",
    "            prelim_max = max_val     \n",
    "    return prelim_min, prelim_max\n",
    "\n",
    "def expected_images(filepaths, min_val, max_val,bins=100, mean=\"average\"):\n",
    "    \"\"\" Retrieve expected images for a given median brighness value.\n",
    "    Args:\n",
    "        filepaths: List of filepaths\n",
    "        min_val: Minimum value of frame means\n",
    "        max_val: Maximum value of frame means\n",
    "        bins: Number of bins between min_val and max_val for which the expected image is calculated\n",
    "        mean: Either average or median\n",
    "    \"\"\"\n",
    "    mean_function = np.mean\n",
    "    if mean == \"median\":\n",
    "        mean_function = np.median\n",
    "    n_per_bin = np.zeros(shape = [bins])\n",
    "    bin_upper_boundaries = np.linspace(0, bins,bins+1)\n",
    "    output_tensor = None\n",
    "    for filepath in filepaths:\n",
    "        print(\".\", end =\"\")\n",
    "        frames = np.array(skimage.io.imread(os.path.join(filepath)), dtype= np.double)\n",
    "        print(\".\", end=\"\")\n",
    "        mean = np.mean(frames,axis=0)#pixelwise mean\n",
    "        print(\".\", end=\"\")\n",
    "        frames = framewise_difference(frames, mean, bigdata=True)\n",
    "        mean = None\n",
    "        \n",
    "        if type(output_tensor) == type(None):\n",
    "            output_tensor = np.zeros(shape = [bins,frames.shape[1],frames.shape[2]], dtype=np.double)\n",
    "        for i, frame in enumerate(frames):\n",
    "            if (i % 500) == 0:\n",
    "                print(\"*\",end=\"\")\n",
    "            frame_mean = mean_function(frame)\n",
    "            try:\n",
    "                assert frame_mean <= max_val\n",
    "                assert frame_mean >= min_val\n",
    "            except:\n",
    "                print(frame_mean)\n",
    "\n",
    "            frame_mean -= min_val\n",
    "            frame_mean /= (max_val-min_val)\n",
    "            frame_mean *= bins\n",
    "            frame_mean = int(frame_mean)\n",
    "            if frame_mean == bins:\n",
    "                continue\n",
    "\n",
    "            n_per_bin[frame_mean] += 1\n",
    "            output_tensor[frame_mean] += frame\n",
    "    \n",
    "    output_tensor = output_tensor/n_per_bin[:, np.newaxis, np.newaxis] #TODO\n",
    "            \n",
    "    return output_tensor, bin_upper_boundaries, n_per_bin\n",
    "\n",
    "def interpolate_tensor(tensor, size, axis=0, smoothing=None):\n",
    "    \"\"\" Resizes and intepolates along axis\n",
    "    Args:\n",
    "        tensor: 3d tensor\n",
    "        size: Desired output size along axis\n",
    "        axis: Axis along which the tensor is resized\n",
    "        smoothing: Sigma of the gaussian used for smoothing before resizing\n",
    "    \"\"\"\n",
    "    if smoothing:\n",
    "        if axis == 0:\n",
    "            tensor = gaussian_filter(tensor, smoothing, [1,0,0], mode=\"mirror\")\n",
    "        elif axis == 1:\n",
    "            tensor = gaussian_filter(tensor, smoothing, [0,1,0], mode=\"mirror\")\n",
    "        elif axis == 2:\n",
    "            tensor = gaussian_filter(tensor, smoothing, [0,0,1], mode=\"mirror\")        \n",
    "    x = np.linspace(0, tensor.shape[axis], tensor.shape[axis])\n",
    "    x_new = np.linspace(0, tensor.shape[axis], size)\n",
    "    out = interp1d(x, tensor, axis=axis)(x_new)\n",
    "    return out"
   ]
  },
  {
   "cell_type": "markdown",
   "metadata": {},
   "source": [
    "# Load filepaths and mask"
   ]
  },
  {
   "cell_type": "code",
   "execution_count": null,
   "metadata": {
    "scrolled": false
   },
   "outputs": [],
   "source": [
    "from pathlib import Path\n",
    "source_folder = os.path.join(Path(os.getcwd()).parent, \"datasets/source_data\")"
   ]
  },
  {
   "cell_type": "code",
   "execution_count": null,
   "metadata": {
    "scrolled": false
   },
   "outputs": [],
   "source": [
    "files = []\n",
    "files.append(os.path.join(source_folder,\"runstart16_X1.tif\"))\n",
    "files.append(os.path.join(source_folder,\"runstart16_X2.tif\"))"
   ]
  },
  {
   "cell_type": "code",
   "execution_count": null,
   "metadata": {},
   "outputs": [],
   "source": [
    "mask = None\n",
    "try:\n",
    "    mask = np.array(Image.open(os.path.join(source_folder,\"mask_runstart16_X.png\")))==0\n",
    "    mask = mask [:,:,0]\n",
    "    mask = ~mask\n",
    "except:\n",
    "    print(\"Mask not found\")"
   ]
  },
  {
   "cell_type": "code",
   "execution_count": null,
   "metadata": {},
   "outputs": [],
   "source": [
    "plt.imshow(mask)"
   ]
  },
  {
   "cell_type": "markdown",
   "metadata": {},
   "source": [
    "# Do the numerics"
   ]
  },
  {
   "cell_type": "code",
   "execution_count": null,
   "metadata": {
    "scrolled": false
   },
   "outputs": [],
   "source": [
    "min_val, max_val = value_range_of_frame_means(files, mean=\"median\")\n",
    "output_tensor, upper_bin_boundaries, n_per_bin = expected_images(files, min_val,max_val,bins=25, mean = \"median\")\n",
    "large = interpolate_tensor(output_tensor, 100)"
   ]
  },
  {
   "cell_type": "code",
   "execution_count": null,
   "metadata": {
    "scrolled": false
   },
   "outputs": [],
   "source": [
    "fig, ax = plt.subplots(1,2, figsize=(20,4))\n",
    "ax[0].bar(np.arange(len(n_per_bin)),n_per_bin, .5)\n",
    "\n",
    "ax[1].set_xlabel(\"Index of expected image (bin)\")\n",
    "ax[1].plot(np.mean(large,axis=(1,2)))\n",
    "\n",
    "ax[1].set_title(\"Mapping to indices\")\n",
    "ax[1].set_ylabel(\"Median of frame\")\n",
    "ax[0].set_xlabel(\"Index of expected image (bin)\")\n",
    "ax[0].set_ylabel(\"Frames per bin\")\n",
    "ax[0].set_title(\"Frames per bin\")"
   ]
  },
  {
   "cell_type": "code",
   "execution_count": null,
   "metadata": {},
   "outputs": [],
   "source": [
    "fig, ax = plt.subplots(1,3, figsize=(20,4))\n",
    "_ = ax[0].plot(output_tensor[:,50:60,120])#Left hemisphere frontal\n",
    "ax[0].set_title(\"Frontal ROI in left hemisphere\")\n",
    "_ = ax[1].plot(output_tensor[:,100:150,100])#Left hemisphere center\n",
    "ax[1].set_title(\"Frontoparietal ROI in left hemisphere\")\n",
    "_ = ax[2].plot(output_tensor[:,180:220,130])#Left hemisphere bottom right\n",
    "ax[2].set_title(\"Occipital ROI in left hemisphere\")\n",
    "\n",
    "for a in ax:\n",
    "    a.set_xlabel(\"Index of expected image (bin)\")\n",
    "    a.set_ylabel(\"Pixel value\")"
   ]
  },
  {
   "cell_type": "code",
   "execution_count": null,
   "metadata": {},
   "outputs": [],
   "source": [
    "polynomial_fitted = pixelwise_polynomial(output_tensor, 2, 6)\n",
    "polynomial_fitted = interpolate_tensor(polynomial_fitted, 100)\n",
    "np.save(\"10_bins_expected_images_polynomial_median.npy\",polynomial_fitted)"
   ]
  },
  {
   "cell_type": "code",
   "execution_count": null,
   "metadata": {},
   "outputs": [],
   "source": [
    "%%capture\n",
    "ani = show_video(normalize(polynomial_fitted),n_frames=99)"
   ]
  },
  {
   "cell_type": "code",
   "execution_count": null,
   "metadata": {},
   "outputs": [],
   "source": [
    "HTML(ani)"
   ]
  },
  {
   "cell_type": "code",
   "execution_count": null,
   "metadata": {},
   "outputs": [],
   "source": [
    "np.save(\"25_bins_expected_images_polynomial_median.npy\",polynomial_fitted)"
   ]
  },
  {
   "cell_type": "markdown",
   "metadata": {},
   "source": [
    "# Variation for better optical flow"
   ]
  },
  {
   "cell_type": "code",
   "execution_count": null,
   "metadata": {},
   "outputs": [],
   "source": [
    "idx_nan = np.where(np.any(np.isnan(large),axis=(1,2)))\n",
    "print(idx_nan)\n",
    "large[idx_nan] = 1"
   ]
  },
  {
   "cell_type": "code",
   "execution_count": null,
   "metadata": {},
   "outputs": [],
   "source": [
    "masked = apply_mask(normalize(large.copy()), mask)"
   ]
  },
  {
   "cell_type": "code",
   "execution_count": null,
   "metadata": {},
   "outputs": [],
   "source": [
    "upp_dec = normalize(upper_decentile_pixels(masked, .9, .95))"
   ]
  },
  {
   "cell_type": "code",
   "execution_count": null,
   "metadata": {},
   "outputs": [],
   "source": [
    "%%capture\n",
    "ani = show_video(upp_dec[250:], n_frames = 100)"
   ]
  },
  {
   "cell_type": "markdown",
   "metadata": {},
   "source": [
    "## Upper decentile"
   ]
  },
  {
   "cell_type": "markdown",
   "metadata": {},
   "source": [
    "# Adaptive histogram equalization and clipping"
   ]
  },
  {
   "cell_type": "code",
   "execution_count": null,
   "metadata": {},
   "outputs": [],
   "source": [
    "poi = upp_dec[250:350]\n",
    "poi = normalize(gaussian_filter(poi, 2))"
   ]
  },
  {
   "cell_type": "code",
   "execution_count": null,
   "metadata": {},
   "outputs": [],
   "source": [
    "%%capture\n",
    "ani = show_video(poi, n_frames = len(poi), vmin=.0, vmax=.99)"
   ]
  },
  {
   "cell_type": "code",
   "execution_count": null,
   "metadata": {},
   "outputs": [],
   "source": [
    "x_comp, y_comp = horn_schunck(poi,99)"
   ]
  },
  {
   "cell_type": "code",
   "execution_count": null,
   "metadata": {},
   "outputs": [],
   "source": [
    "adaptive = clipped_adaptive(upp_dec[250:])"
   ]
  },
  {
   "cell_type": "code",
   "execution_count": null,
   "metadata": {},
   "outputs": [],
   "source": [
    "%%capture\n",
    "ani = show_video(adaptive, n_frames= 100)"
   ]
  },
  {
   "cell_type": "code",
   "execution_count": null,
   "metadata": {},
   "outputs": [],
   "source": [
    "%%capture\n",
    "fig, ax = display_combined(x_comp[0],y_comp[0], large[1])\n",
    "start = 10\n",
    "\n",
    "def animate(i):\n",
    "    i += start\n",
    "    print(\".\", end =\"\")    \n",
    "    display_combined(x_comp[i],y_comp[i], poi[i+1], fig=fig, ax=ax)"
   ]
  },
  {
   "cell_type": "code",
   "execution_count": null,
   "metadata": {},
   "outputs": [],
   "source": [
    "ani = matplotlib.animation.FuncAnimation(fig, animate, frames=85).to_jshtml()"
   ]
  },
  {
   "cell_type": "code",
   "execution_count": null,
   "metadata": {},
   "outputs": [],
   "source": [
    "poi = normalize(large[150:250])\n",
    "poi = gaussian_filter(poi, 2)"
   ]
  },
  {
   "cell_type": "code",
   "execution_count": null,
   "metadata": {},
   "outputs": [],
   "source": [
    "x_comp, y_comp = horn_schunck(poi,99)"
   ]
  },
  {
   "cell_type": "code",
   "execution_count": null,
   "metadata": {},
   "outputs": [],
   "source": [
    "%%capture\n",
    "fig, ax = display_combined(x_comp[0],y_comp[0], large[1])\n",
    "start = 10\n",
    "\n",
    "def animate(i):\n",
    "    i += start\n",
    "    print(\".\", end =\"\")    \n",
    "    display_combined(x_comp[i]*10,y_comp[i]*10, poi[i+1], fig=fig, ax=ax, head_width=1)"
   ]
  },
  {
   "cell_type": "code",
   "execution_count": null,
   "metadata": {},
   "outputs": [],
   "source": [
    "ani = matplotlib.animation.FuncAnimation(fig, animate, frames=85).to_jshtml()"
   ]
  },
  {
   "cell_type": "code",
   "execution_count": null,
   "metadata": {},
   "outputs": [],
   "source": [
    "HTML(ani)"
   ]
  },
  {
   "cell_type": "markdown",
   "metadata": {},
   "source": [
    "# Conclusion\n"
   ]
  },
  {
   "cell_type": "code",
   "execution_count": null,
   "metadata": {
    "scrolled": true
   },
   "outputs": [],
   "source": []
  }
 ],
 "metadata": {
  "kernelspec": {
   "display_name": "Python 3",
   "language": "python",
   "name": "python3"
  },
  "language_info": {
   "codemirror_mode": {
    "name": "ipython",
    "version": 3
   },
   "file_extension": ".py",
   "mimetype": "text/x-python",
   "name": "python",
   "nbconvert_exporter": "python",
   "pygments_lexer": "ipython3",
   "version": "3.7.6"
  }
 },
 "nbformat": 4,
 "nbformat_minor": 2
}
