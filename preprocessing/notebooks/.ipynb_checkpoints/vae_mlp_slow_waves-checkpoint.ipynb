{
 "cells": [
  {
   "cell_type": "markdown",
   "metadata": {},
   "source": [
    "# Load dataset"
   ]
  },
  {
   "cell_type": "code",
   "execution_count": 1,
   "metadata": {},
   "outputs": [
    {
     "name": "stdout",
     "output_type": "stream",
     "text": [
      "2524\n"
     ]
    }
   ],
   "source": [
    "from collections import defaultdict\n",
    "import pickle\n",
    "import numpy as np\n",
    "\n",
    "class NestedDict(defaultdict):\n",
    "    def __init__(self):\n",
    "        super().__init__(self.__class__)\n",
    "    def __reduce__(self):\n",
    "        return (type(self), (), None, None, iter(self.items()))\n",
    "    \n",
    "with open(\"../../../../main_experiment/sparse_data/dataset.pkl\", \"rb\") as f:\n",
    "    dataset = pickle.load(f)\n",
    "slow_wave_ids = list(dataset[\"sws\"].keys())\n",
    "print(len(slow_wave_ids))"
   ]
  },
  {
   "cell_type": "code",
   "execution_count": 2,
   "metadata": {},
   "outputs": [
    {
     "name": "stdout",
     "output_type": "stream",
     "text": [
      "2524\n"
     ]
    }
   ],
   "source": [
    "with open(\"../../../../main_experiment/sparse_data/dataset.pkl\", \"rb\") as f:\n",
    "    dataset = pickle.load(f)\n",
    "slow_wave_ids = list(dataset[\"sws\"].keys())\n",
    "print(len(slow_wave_ids))\n",
    "\n",
    "iso = np.array([dataset[\"sws\"][k][\"iso\"] for k in slow_wave_ids])\n",
    "starts = np.array([dataset[\"sws\"][k][\"start\"] for k in slow_wave_ids])\n",
    "stops = np.array([dataset[\"sws\"][k][\"stop\"] for k in slow_wave_ids])\n",
    "width = np.array([dataset[\"sws\"][k][\"width\"] for k in slow_wave_ids])\n",
    "height = np.array([dataset[\"sws\"][k][\"height\"] for k in slow_wave_ids])\n",
    "gcamp = np.array([dataset[\"sws\"][k][\"gcamp_interpolated\"] for k in slow_wave_ids])\n",
    "hemo = np.array([dataset[\"sws\"][k][\"hemo_interpolated\"] for k in slow_wave_ids])\n",
    "#gcamp = np.array([dataset[\"sws\"][k][\"gcamp_mean_centered\"] for k in slow_wave_ids])\n",
    "#hemo = np.array([dataset[\"sws\"][k][\"hemo_mean_centered\"] for k in slow_wave_ids])"
   ]
  },
  {
   "cell_type": "code",
   "execution_count": 3,
   "metadata": {},
   "outputs": [],
   "source": [
    "from sklearn.model_selection import train_test_split\n",
    "random_state = 42\n",
    "test_size=.2\n",
    "batch_size = 100\n",
    "x_train, x_test = train_test_split(gcamp, test_size=test_size, random_state = random_state)"
   ]
  },
  {
   "cell_type": "code",
   "execution_count": 4,
   "metadata": {},
   "outputs": [
    {
     "data": {
      "text/plain": [
       "(2019, 128)"
      ]
     },
     "execution_count": 4,
     "metadata": {},
     "output_type": "execute_result"
    }
   ],
   "source": [
    "x_train.shape"
   ]
  },
  {
   "cell_type": "code",
   "execution_count": 5,
   "metadata": {},
   "outputs": [],
   "source": [
    "image_size = x_train.shape[1]\n",
    "original_dim = 128"
   ]
  },
  {
   "cell_type": "markdown",
   "metadata": {},
   "source": [
    "# Variational Autoenconder"
   ]
  },
  {
   "cell_type": "code",
   "execution_count": 6,
   "metadata": {},
   "outputs": [],
   "source": [
    "from __future__ import absolute_import\n",
    "from __future__ import division\n",
    "from __future__ import print_function\n",
    "\n",
    "from tensorflow.keras.layers import Lambda, Input, Dense\n",
    "from tensorflow.keras.models import Model\n",
    "from tensorflow.keras.datasets import mnist\n",
    "from tensorflow.keras.losses import mse, binary_crossentropy\n",
    "from tensorflow.keras.utils import plot_model\n",
    "from tensorflow.keras import backend as K\n",
    "\n",
    "import numpy as np\n",
    "import matplotlib.pyplot as plt\n",
    "import argparse\n",
    "import os\n",
    "\n",
    "def sampling(args):\n",
    "    \"\"\"Reparameterization trick by sampling from an isotropic unit Gaussian.\n",
    "    # Arguments:\n",
    "        args (tensor): mean and log of variance of Q(z|X)\n",
    "    # Returns:\n",
    "        z (tensor): sampled latent vector\n",
    "    \"\"\"\n",
    "    z_mean, z_log_var = args\n",
    "    batch = K.shape(z_mean)[0]\n",
    "    dim = K.int_shape(z_mean)[1]\n",
    "    epsilon = K.random_normal(shape=(batch, dim))\n",
    "    return z_mean + K.exp(0.5 * z_log_var) * epsilon"
   ]
  },
  {
   "cell_type": "code",
   "execution_count": 7,
   "metadata": {},
   "outputs": [],
   "source": [
    "def get_vae_loss(inputs, outputs, z_mean, z_log_var, reconstruction_loss = \"mse\", original_dim = 128):\n",
    "    # VAE loss = mse_loss or binary_crossentropy + kl_loss\n",
    "    if reconstruction_loss == \"binary_crossentropy\":\n",
    "        reconstruction_loss = binary_crossentropy(inputs,outputs)\n",
    "    elif reconstruction_loss == \"mse\":\n",
    "        reconstruction_loss = mse(inputs, outputs)\n",
    "\n",
    "    reconstruction_loss *= original_dim\n",
    "    \n",
    "    kl_loss = 1 + z_log_var - K.square(z_mean) - K.exp(z_log_var)\n",
    "    kl_loss = K.sum(kl_loss, axis=-1)\n",
    "    kl_loss *= -0.5\n",
    "    vae_loss = K.mean(reconstruction_loss + kl_loss)\n",
    "    return vae_loss"
   ]
  },
  {
   "cell_type": "code",
   "execution_count": 8,
   "metadata": {},
   "outputs": [],
   "source": [
    "## network parameters\n",
    "input_shape = (128, )\n",
    "original_dim = input_shape[0]\n",
    "batch_size = 128\n",
    "epochs = 50"
   ]
  },
  {
   "cell_type": "code",
   "execution_count": 9,
   "metadata": {},
   "outputs": [],
   "source": [
    "def mlp_encoder(input_shape, latent_dim = 2, intermediate_dim = 512):\n",
    "    # Encoder\n",
    "    inputs = Input(shape=input_shape, name='encoder_input')\n",
    "    x = Dense(intermediate_dim, activation='relu')(inputs)\n",
    "    z_mean = Dense(latent_dim, name='z_mean')(x)\n",
    "    z_log_var = Dense(latent_dim, name='z_log_var')(x)\n",
    "    z = Lambda(sampling, output_shape=(latent_dim,), name='z')([z_mean, z_log_var])\n",
    "    return inputs, [z_mean, z_log_var, z]"
   ]
  },
  {
   "cell_type": "code",
   "execution_count": 10,
   "metadata": {},
   "outputs": [],
   "source": [
    "def mlp_decoder(original_dim, latent_dim = 2, intermediate_dim = 512):\n",
    "    # Decoder\n",
    "    latent_inputs = Input(shape=(latent_dim,), name='z_sampling')\n",
    "    x = Dense(intermediate_dim, activation='relu')(latent_inputs)\n",
    "    outputs = Dense(original_dim, activation='sigmoid')(x)\n",
    "    return latent_inputs, outputs"
   ]
  },
  {
   "cell_type": "code",
   "execution_count": 11,
   "metadata": {},
   "outputs": [],
   "source": [
    "# VAE model\n",
    "inputs, [z_mean, z_log_var, z] = mlp_encoder(input_shape)\n",
    "latent_inputs, outputs = mlp_decoder(original_dim)\n",
    "encoder = Model(inputs, [z_mean, z_log_var, z], name='encoder')\n",
    "decoder = Model(latent_inputs, outputs, name='decoder')\n",
    "outputs = decoder(encoder(inputs)[2])\n",
    "vae = Model(inputs, outputs, name='vae_mlp')"
   ]
  },
  {
   "cell_type": "code",
   "execution_count": 12,
   "metadata": {},
   "outputs": [
    {
     "data": {
      "text/plain": [
       "<tensorflow.python.keras.callbacks.History at 0x7feb4c7a1290>"
      ]
     },
     "execution_count": 12,
     "metadata": {},
     "output_type": "execute_result"
    }
   ],
   "source": [
    "vae.add_loss(get_vae_loss(inputs, outputs, z_mean, z_log_var))\n",
    "vae.compile(optimizer='adam')\n",
    "\n",
    "# train the autoencoder\n",
    "vae.fit(x_train, epochs=epochs, batch_size=batch_size, validation_data=(x_test, None), verbose=0)"
   ]
  },
  {
   "cell_type": "code",
   "execution_count": 13,
   "metadata": {},
   "outputs": [
    {
     "data": {
      "text/plain": [
       "[<matplotlib.lines.Line2D at 0x7feb3c067fd0>]"
      ]
     },
     "execution_count": 13,
     "metadata": {},
     "output_type": "execute_result"
    },
    {
     "data": {
      "image/png": "[encoded data removed]",
      "text/plain": [
       "<Figure size 432x288 with 1 Axes>"
      ]
     },
     "metadata": {
      "needs_background": "light"
     },
     "output_type": "display_data"
    }
   ],
   "source": [
    "i = 100\n",
    "res = vae.predict(x_train[i:i+1])\n",
    "plt.plot(x_train[i])\n",
    "plt.plot(res[0])"
   ]
  },
  {
   "cell_type": "code",
   "execution_count": 14,
   "metadata": {},
   "outputs": [
    {
     "data": {
      "image/png": "[encoded data removed]",
      "text/plain": [
       "<Figure size 432x432 with 2 Axes>"
      ]
     },
     "metadata": {
      "needs_background": "light"
     },
     "output_type": "display_data"
    }
   ],
   "source": [
    "# Plot of the digit classes in the latent space\n",
    "x_test_latent = encoder.predict(x_test)\n",
    "plt.figure(figsize=(6, 6))\n",
    "plt.scatter(x_test_latent[0], x_test_latent[1])#, c=test_labels)\n",
    "plt.colorbar()\n",
    "plt.show()"
   ]
  },
  {
   "cell_type": "code",
   "execution_count": 28,
   "metadata": {},
   "outputs": [],
   "source": [
    "latent = np.array(([list([x[0]]) for x in encoder.predict(x_train[1:2])]))"
   ]
  },
  {
   "cell_type": "code",
   "execution_count": 34,
   "metadata": {},
   "outputs": [
    {
     "data": {
      "text/plain": [
       "[<matplotlib.lines.Line2D at 0x7feb2c2436d0>]"
      ]
     },
     "execution_count": 34,
     "metadata": {},
     "output_type": "execute_result"
    },
    {
     "data": {
      "image/png": "[encoded data removed]",
      "text/plain": [
       "<Figure size 432x288 with 1 Axes>"
      ]
     },
     "metadata": {
      "needs_background": "light"
     },
     "output_type": "display_data"
    }
   ],
   "source": [
    "plt.plot(decoder.predict(latent)[1][0])"
   ]
  },
  {
   "cell_type": "code",
   "execution_count": 111,
   "metadata": {},
   "outputs": [
    {
     "data": {
      "text/plain": [
       "array([[[ 1.5340853 , -0.38954756]]], dtype=float32)"
      ]
     },
     "execution_count": 111,
     "metadata": {},
     "output_type": "execute_result"
    }
   ],
   "source": [
    "np.array([latent[0]])"
   ]
  },
  {
   "cell_type": "code",
   "execution_count": 124,
   "metadata": {},
   "outputs": [],
   "source": [
    "def manifold(decoder, x_range = [-2,2], y_range = [-0.5, -2.5], n = 2):\n",
    "    x = np.linspace(x_range[0], x_range[1], n)\n",
    "    y = np.linspace(y_range[0], y_range[1], n)\n",
    "    m = np.array(np.meshgrid(y, x)).T\n",
    "    predictions = np.empty_like(m, dtype=\"object\")\n",
    "    print(m)\n",
    "    for y in range(predictions.shape[0]):\n",
    "        for x in range(predictions.shape[1]):\n",
    "            predictions[y,x] = list(decoder.predict(np.array([[m[y,x]]], dtype=np.float32)))    "
   ]
  },
  {
   "cell_type": "code",
   "execution_count": 125,
   "metadata": {},
   "outputs": [
    {
     "name": "stdout",
     "output_type": "stream",
     "text": [
      "[[[-0.5 -2. ]\n",
      "  [-0.5  2. ]]\n",
      "\n",
      " [[-2.5 -2. ]\n",
      "  [-2.5  2. ]]]\n"
     ]
    }
   ],
   "source": [
    "manifold(decoder)"
   ]
  },
  {
   "cell_type": "code",
   "execution_count": 42,
   "metadata": {},
   "outputs": [
    {
     "data": {
      "image/png": "[encoded data removed]",
      "text/plain": [
       "<Figure size 720x720 with 16 Axes>"
      ]
     },
     "metadata": {
      "needs_background": "light"
     },
     "output_type": "display_data"
    }
   ],
   "source": [
    "import matplotlib.pyplot as plt\n",
    "import matplotlib.gridspec as gridspec\n",
    "\n",
    "plt.figure(figsize = (10,10))\n",
    "gs1 = gridspec.GridSpec(10, 10)\n",
    "gs1.update(wspace=0.01, hspace=0.0) # set the spacing between axes. \n",
    "\n",
    "for i in range(16):\n",
    "   # i = i + 1 # grid spec indexes from 0\n",
    "    ax1 = plt.subplot(gs1[i])\n",
    "    plt.axis('on')\n",
    "    ax1.set_xticklabels([])\n",
    "    ax1.set_yticklabels([])\n",
    "    ax1.set_aspect('equal')\n",
    "\n",
    "plt.show()"
   ]
  },
  {
   "cell_type": "code",
   "execution_count": null,
   "metadata": {},
   "outputs": [],
   "source": []
  }
 ],
 "metadata": {
  "kernelspec": {
   "display_name": "Python 3",
   "language": "python",
   "name": "python3"
  },
  "language_info": {
   "codemirror_mode": {
    "name": "ipython",
    "version": 3
   },
   "file_extension": ".py",
   "mimetype": "text/x-python",
   "name": "python",
   "nbconvert_exporter": "python",
   "pygments_lexer": "ipython3",
   "version": "3.7.7"
  }
 },
 "nbformat": 4,
 "nbformat_minor": 1
}
